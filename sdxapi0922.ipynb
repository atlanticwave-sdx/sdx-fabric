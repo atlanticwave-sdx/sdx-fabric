{
 "cells": [
  {
   "cell_type": "raw",
   "metadata": {
    "tags": []
   },
   "source": [
    "## SDX-Fabric API\n",
    "AtlanticWave SDX Cross-Domain Orchestration and Provisioning for Facilities and R&E Networks user interfaces with the SDXLib in Fabric Jupyter Notebook\n",
    "\n",
    "This notebook experiment emphasizes the building of Layer 2 VPNs and the use of Fabric Facility Ports for network orchestration and provisioning across domains. It shows the integration of SDX Lib with the SDX Controller by using token-based authentication, closing the security gap and promoting safe communication between SDX Lib and the SDX Controller.\n",
    "\n",
    "## Configure the Environment\n",
    "If you are using the FABRIC JupyterHub many of the environment variables will be automatically configured for you.    \n",
    "If you are using the FABRIC API outside of the JupyterHub you will need to configure all of the environment variables. \n",
    "\n",
    "## Step 1:  Authentication & Token Handling\n",
    "\n",
    "Obtain the Token\n",
    "When a user logs into FABRIC Jupyter Hub, the system automatically obtains and stores a token.\n",
    "\n",
    "Environment variable: $FABRIC_TOKEN_LOCATION\n",
    "Default path: /home/fabric/.tokens.json\n",
    "\n",
    "## Import the FABlib Library and get the id token\n",
    "\n",
    "## create  a request session with token"
   ]
  },
  {
   "cell_type": "code",
   "execution_count": null,
   "metadata": {
    "tags": []
   },
   "outputs": [],
   "source": [
    "import requests, json\n",
    "from IPython.display import HTML\n",
    "from fabrictestbed_extensions.fablib.fablib import FablibManager as fablib_manager\n",
    "fablib = fablib_manager()\n",
    "with open(fablib.get_token_location()) as f:\n",
    "    fabric_token = json.load(f).get(\"id_token\")\n",
    "session = requests.Session()\n",
    "session.headers.update({\"Authorization\": f\"Bearer {fabric_token}\", \"Content-Type\": \"application/json\"})\n",
    "BASE_URL = \"http://190.103.184.194\"\n",
    "# BASE_URL = \"https://190.103.184.197\""
   ]
  },
  {
   "cell_type": "markdown",
   "metadata": {},
   "source": [
    "## Test the SDX API with FABRIC Token"
   ]
  },
  {
   "cell_type": "code",
   "execution_count": null,
   "metadata": {},
   "outputs": [],
   "source": [
    "response = session.get(BASE_URL, timeout=6)\n",
    "print(f\"HTTP Status: {response.status_code} - Response Data:\", response.json())  # Print API response"
   ]
  },
  {
   "cell_type": "markdown",
   "metadata": {},
   "source": [
    "## Request Topology"
   ]
  },
  {
   "cell_type": "code",
   "execution_count": null,
   "metadata": {},
   "outputs": [],
   "source": [
    "URL = f\"{BASE_URL}/topology\"\n",
    "response = session.get(URL, timeout=6)\n",
    "print(f\"HTTP Status: {response.status_code} - Response Data:\", response.json())  # Print API response"
   ]
  },
  {
   "cell_type": "markdown",
   "metadata": {},
   "source": [
    "## Request l2vpns"
   ]
  },
  {
   "cell_type": "code",
   "execution_count": null,
   "metadata": {},
   "outputs": [],
   "source": [
    "URL = \"http://190.103.184.194/l2vpns\"\n",
    "response = session.get(URL, timeout=6)\n",
    "print(f\"HTTP Status: {response.status_code} - Response Data:\", response.json())  # Print API response"
   ]
  },
  {
   "cell_type": "markdown",
   "metadata": {},
   "source": [
    "## Render Available ports"
   ]
  },
  {
   "cell_type": "code",
   "execution_count": null,
   "metadata": {},
   "outputs": [],
   "source": [
    "URL = f\"{BASE_URL}/available_ports?format=html&search=amlight.net&limit=50\"\n",
    "response = session.get(URL, timeout=6)\n",
    "HTML(response.text)"
   ]
  },
  {
   "cell_type": "code",
   "execution_count": null,
   "metadata": {},
   "outputs": [],
   "source": [
    "URL = f\"{BASE_URL}/available_ports?format=html&fields=Domain,Device,Port,Status,Port ID,Entities&limit=20\"\n",
    "response = session.get(URL, timeout=6)\n",
    "HTML(response.text)"
   ]
  },
  {
   "cell_type": "code",
   "execution_count": null,
   "metadata": {},
   "outputs": [],
   "source": [
    "URL = f\"{BASE_URL}/available_ports?format=html&search=FABRIC&limit=20\"\n",
    "response = session.get(URL, timeout=6)\n",
    "HTML(response.text)"
   ]
  },
  {
   "cell_type": "code",
   "execution_count": null,
   "metadata": {},
   "outputs": [],
   "source": [
    "URL = f\"{BASE_URL}/available_ports?format=html&fields=Domain,Device,Port,Status,Port ID,Entities,VLANs Available,VLANs in Use&limit=20\"\n",
    "response = session.get(URL, timeout=6)\n",
    "HTML(response.text)"
   ]
  },
  {
   "cell_type": "markdown",
   "metadata": {},
   "source": [
    "## Render Device Info"
   ]
  },
  {
   "cell_type": "code",
   "execution_count": null,
   "metadata": {},
   "outputs": [],
   "source": [
    "DEVICE_NAME = \"MIA-MI1-SW17\"\n",
    "URL = f\"{BASE_URL}/device_info?device={DEVICE_NAME}&format=html&limit=20\"\n",
    "response = session.get(URL, timeout=6)\n",
    "HTML(response.text)"
   ]
  },
  {
   "cell_type": "markdown",
   "metadata": {},
   "source": [
    "## Render Port Device Info"
   ]
  },
  {
   "cell_type": "code",
   "execution_count": null,
   "metadata": {},
   "outputs": [],
   "source": [
    "DEVICE_NAME = \"MIA-MI1-SW17\"\n",
    "PORT_ID = \"urn:sdx:port:amlight.net:MIA-MI1-SW17:7\"\n",
    "URL = f\"{BASE_URL}/device_info?device={DEVICE_NAME}&port_id={PORT_ID}&format=json\"\n",
    "response = session.get(URL, timeout=6)\n",
    "HTML(response.text)"
   ]
  },
  {
   "cell_type": "markdown",
   "metadata": {},
   "source": [
    "## Create L2VPN"
   ]
  },
  {
   "cell_type": "code",
   "execution_count": null,
   "metadata": {},
   "outputs": [],
   "source": [
    "URL = f\"{BASE_URL}/l2vpn\"\n",
    "payload = {\n",
    "    \"name\": \"test-sdxlib-with-endpoint\",\n",
    "    \"endpoints\": [\n",
    "        {\"port_id\": \"urn:sdx:port:amlight.net:MIA-MI1-SW17:7\", \"vlan\": \"any\"},\n",
    "        {\"port_id\": \"urn:sdx:port:amlight.net:MIA-MI1-SW17:27\", \"vlan\": \"any\"}\n",
    "    ],\n",
    "    'Notifications': 'lmarinve@fiu.edu'\n",
    "}\n",
    "\n",
    "response = session.post(URL, data=json.dumps(payload))\n",
    "print(response.json())\n",
    "service_id = response.json().get(\"service_id\")"
   ]
  },
  {
   "cell_type": "markdown",
   "metadata": {},
   "source": [
    "## Fetch the created L2VPN by service_id"
   ]
  },
  {
   "cell_type": "code",
   "execution_count": null,
   "metadata": {},
   "outputs": [],
   "source": [
    "# service_id = \"5e954640-2d52-4141-8091-177fb3d31305\"\n",
    "URL = f\"{BASE_URL}/l2vpn/{service_id}\"\n",
    "response = session.get(URL, timeout=6)\n",
    "print(\"HTTP\", response.status_code, response.text)\n"
   ]
  },
  {
   "cell_type": "markdown",
   "metadata": {},
   "source": [
    "## Delete the created L2VPN by service_id"
   ]
  },
  {
   "cell_type": "code",
   "execution_count": null,
   "metadata": {},
   "outputs": [],
   "source": [
    "service_id = \"5e954640-2d52-4141-8091-177fb3d31305\"\n",
    "URL = f\"{BASE_URL}/l2vpn/{service_id}\"\n",
    "response = session.delete(URL, timeout=6)\n",
    "print(\"HTTP\", response.status_code, response.text)\n"
   ]
  }
 ],
 "metadata": {
  "kernelspec": {
   "display_name": "Python 3 (ipykernel)",
   "language": "python",
   "name": "python3"
  },
  "language_info": {
   "codemirror_mode": {
    "name": "ipython",
    "version": 3
   },
   "file_extension": ".py",
   "mimetype": "text/x-python",
   "name": "python",
   "nbconvert_exporter": "python",
   "pygments_lexer": "ipython3",
   "version": "3.11.9"
  }
 },
 "nbformat": 4,
 "nbformat_minor": 4
}
