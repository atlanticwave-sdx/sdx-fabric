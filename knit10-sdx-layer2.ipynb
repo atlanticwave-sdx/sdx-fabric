{
 "cells": [
  {
   "cell_type": "markdown",
   "id": "c3179d1a-5eca-4f57-a8e0-8b6dae32400f",
   "metadata": {},
   "source": [
    "# Connecting a FABRIC slice to the National Research Platform (NRP) cluster at AtlanticWave/AmLight resource using a Layer 2 facility port\n",
    "\n",
    "This notebook creates a slice where a virtual machine will run a iperf3 test against a NRP pod running at AmLight/AMPATH. \n",
    "To achieve such a goal, the slice must be expanded with a Layer 2 facility port.\n",
    "\n",
    "Currently, FABRIC has two sets of facility ports connected to AmLight:\n",
    "\n",
    "* Layer 2/VLAN facility ports\n",
    "* Layer 3/IP facility ports\n",
    "\n",
    "To use a Layer 2 facility port, experimenters must use of the following VLANs:\n",
    "\n",
    "* 4000 to 4019\n",
    "\n",
    "when using Layer 2 facility ports, experimenters are free to choose the IP addresses used by the hosts on both sides of the Layer 2 service.\n",
    "\n",
    "To use a Layer 3 facility port, experimenters must use of the following VLANs:\n",
    "\n",
    "* 3001 to 3008\n",
    "\n",
    "When using Layer 3 facility ports, experimenters must use the IP prefixes predefined below, where the first IP and IPv6 of each range is a router:\n",
    "\n",
    "* 3001 — 67.17.206.64/29, 2800:bc0:9000:3001::/64\n",
    "* 3002 — 67.17.206.72/29, 2800:bc0:9000:3002::/64\n",
    "* 3003 — 67.17.206.80/29, 2800:bc0:9000:3003::/64\n",
    "* 3004 — 67.17.206.88/29, 2800:bc0:9000:3004::/64\n",
    "* 3005 — 67.17.206.96/29, 2800:bc0:9000:3005::/64\n",
    "* 3006 — 67.17.206.104/29, 2800:bc0:9000:3006::/64\n",
    "* 3007 — 67.17.206.112/29, 2800:bc0:9000:3007::/64\n",
    "* 3008 — 67.17.206.120/29, 2800:bc0:9000:3008::/64\n",
    "\n",
    "When to choose Layer 2 or Layer 3 facility ports? If the experimenter wishes to build a private tunnel all the way to the destination. That implies that all network devices in the path will be configured to support the chosen VLAN ID. To connect to AmLight's Academic IP network, and with it, all its users and instruments, without any control but fast access, Layer 3 facility ports are the ideal solution."
   ]
  },
  {
   "cell_type": "markdown",
   "id": "393c46f7-7f51-469c-b65d-552a716ea4d5",
   "metadata": {},
   "source": [
    "## Attention\n",
    "To use NRP resources, follow the instructions at https://nationalresearchplatform.org/documentation/"
   ]
  },
  {
   "cell_type": "markdown",
   "id": "e5d22236-f610-4545-87fb-d4bcb055e8da",
   "metadata": {},
   "source": [
    "## Let's follow FABRIC's documentation to create a slice. We will leverage FABRIC's notebooks and documentation for this step. "
   ]
  },
  {
   "cell_type": "markdown",
   "id": "220ebfa0-8e3c-4505-aa8c-eeda5378f1f9",
   "metadata": {},
   "source": [
    "## Import the FABlib Library\n",
    "\n",
    "The following creates a single node with basic compute capabilities. You build a slice by creating a new slice and adding resources to the slice. After you build the slice, you must submit a request for the slice to be instantiated.   \n",
    "\n",
    "By default, the submit function will block until the node is ready and will display the progress of your slice being built."
   ]
  },
  {
   "cell_type": "code",
   "execution_count": null,
   "id": "683b565f-f773-4734-a5bb-2e9d3dac0730",
   "metadata": {},
   "outputs": [],
   "source": [
    "from fabrictestbed_extensions.fablib.fablib import FablibManager as fablib_manager\n",
    "\n",
    "fablib = fablib_manager()"
   ]
  },
  {
   "cell_type": "markdown",
   "id": "3ef5ff34-11a2-4d93-a9c7-963eb146a547",
   "metadata": {},
   "source": [
    "Read the config to confirm."
   ]
  },
  {
   "cell_type": "code",
   "execution_count": null,
   "id": "a3f3a976-1d8a-40b5-b93b-bad41b50b3e3",
   "metadata": {},
   "outputs": [],
   "source": [
    "fablib.show_config();"
   ]
  },
  {
   "cell_type": "markdown",
   "id": "af3500f6-32c1-46a4-bb82-09c84a2615c0",
   "metadata": {},
   "source": [
    "## Create the Experiment Slice\n",
    "\n",
    "The following steps create a single node with basic compute capabilities. You build a slice by creating a new slice and adding resources to the slice. After you build the slice, you must submit a request for the slice to be instantiated.   \n",
    "\n",
    "By default, the submit function will block until the node is ready and will display the progress of your slice being built.\n"
   ]
  },
  {
   "cell_type": "code",
   "execution_count": null,
   "id": "a7599dae-d11c-4e5d-8c4b-8f47b1fa83ea",
   "metadata": {},
   "outputs": [],
   "source": [
    "# Choose any name for your slice\n",
    "slice_name = \"Slice-AWSDX-test-33\"\n",
    "\n",
    "# Facility port: Let's provide the config for Layer 2 facility port\n",
    "facility_port_site = 'FIU'\n",
    "facility_port = 'AmLight-EXP-Layer2-FIU'"
   ]
  },
  {
   "cell_type": "code",
   "execution_count": null,
   "id": "846a9278-f0ce-48e2-92bf-9a114506df16",
   "metadata": {},
   "outputs": [],
   "source": [
    "# Check if a slice with the same already exists\n",
    "\n",
    "try:\n",
    "    # If exists, delete it to avoid conflicts\n",
    "    slice = fablib.get_slice(name=slice_name)\n",
    "    slice.show()\n",
    "except:\n",
    "    print(f'Slice {slice_name} not found. Resuming... ')\n",
    "    "
   ]
  },
  {
   "cell_type": "code",
   "execution_count": null,
   "id": "60754dd7-ea10-4800-8067-a6141a63d83b",
   "metadata": {},
   "outputs": [],
   "source": [
    "# Let's choose the VLAN based on the facility ports availability. VLANs listed in the column \"Allocated VLAN Range\" are NOT available.\n",
    "\n",
    "filter_function=lambda s: s['site_name'] == facility_port_site\n",
    "fablib.list_facility_ports(filter_function=filter_function)"
   ]
  },
  {
   "cell_type": "code",
   "execution_count": null,
   "id": "e6bb0beb-4e1b-4bee-8cba-ca3a654d89d1",
   "metadata": {},
   "outputs": [],
   "source": [
    "# For instance, let's use VLAN 4016 since it is part of the VLAN Range and it is not allocated to anyone (as per Allocated VLAN Range)\n",
    "\n",
    "facility_port_vlan = \"4016\""
   ]
  },
  {
   "cell_type": "markdown",
   "id": "d5dfedf1-ed96-47f6-98d7-40d9d698c2ed",
   "metadata": {},
   "source": [
    "## Create Slice"
   ]
  },
  {
   "cell_type": "code",
   "execution_count": null,
   "id": "96430a89-4083-43af-b40f-945952451437",
   "metadata": {},
   "outputs": [],
   "source": [
    "#Let's create a slice\n",
    "slice.delete()\n",
    "slice.show()\n",
    "slice = fablib.new_slice(name=slice_name)\n",
    "[site] = fablib.get_random_sites(count=1)"
   ]
  },
  {
   "cell_type": "code",
   "execution_count": null,
   "id": "3b820e93-75ff-4688-b40b-e8c58905e762",
   "metadata": {},
   "outputs": [],
   "source": [
    "# Create a node\n",
    "node = slice.add_node(name=f\"Node1\", cores=4, ram=16, site=site, image='default_rocky_9')\n",
    "node_iface = node.add_component(model='NIC_Basic', name=\"nic1\").get_interfaces()[0]\n",
    "\n",
    "# Make the node ready for perfSonar via Docker\n",
    "node.add_post_boot_upload_directory('node_tools','.')\n",
    "node.add_post_boot_execute('sudo bash node_tools/host_tune.sh')\n",
    "node.add_post_boot_execute('sudo bash node_tools/enable_docker.sh {{ _self_.image }} ')\n",
    "node.add_post_boot_execute('sudo docker pull fabrictestbed/slice-vm-rocky8-multitool:0.0.2 ')"
   ]
  },
  {
   "cell_type": "code",
   "execution_count": null,
   "id": "5875aaa3-9ebc-4228-9e3e-31bf7842f134",
   "metadata": {},
   "outputs": [],
   "source": [
    "# Add a facility port to the slice\n",
    "facility_port = slice.add_facility_port(name=facility_port, site=facility_port_site, vlan=facility_port_vlan)\n",
    "facility_port_interface = facility_port.get_interfaces()[0]\n",
    "\n",
    "# Connect the facility port and the node port (FABRIC network instantiates the path using a L2 tunnel)\n",
    "net = slice.add_l2network(name=f'net_facility_port', interfaces=[])\n",
    "net.add_interface(node_iface)\n",
    "net.add_interface(facility_port_interface)"
   ]
  },
  {
   "cell_type": "code",
   "execution_count": null,
   "id": "9cbe2a95-a169-4e0b-a65a-08d046f3a5a4",
   "metadata": {
    "editable": true,
    "slideshow": {
     "slide_type": ""
    },
    "tags": []
   },
   "outputs": [],
   "source": [
    "#Submit the Request\n",
    "slice.submit()"
   ]
  },
  {
   "cell_type": "markdown",
   "id": "af52ac39-856e-44a0-99ce-53d4ce70d923",
   "metadata": {},
   "source": [
    "## Next steps\n",
    "\n",
    "At this point, we have our FABRIC slice and virtual machine ready. If we are connecting to NRP at AmLight, we need to know:\n",
    "\n",
    "1. Where is NRP located at AmLight ? We need to know the AmLight's switch and port. We can use the SDX-Lib to find out.\n",
    "2. Where is the FABRIC Facility port at AmLight? We can use the SDX-Lib to find out.\n",
    "3. Which VLAN ID to use? Because AtlanticWave-SDX supports VLAN translation, it is acceptable to have a VLAN ID at NRP and a different VLAN ID at the Facility port. We can use the SDX-Lib to find out the VLAN ranges available.\n",
    "4. With the three questions answered, we can instantiate a L2VPN on AtlanticWave connecting NRP cluster to FIU's Facility Port using the SDX-Lib\n",
    "5. We can then instantiate a NRP pod using the VLAN provided\n",
    "6. Then we run our experiments!"
   ]
  },
  {
   "cell_type": "markdown",
   "id": "139e171b-d53b-4cc6-82fb-bac8b71440d4",
   "metadata": {},
   "source": [
    "### Requirements: Since we will be using SDX-Lib from this point forward, let's make sure it is installed.\n",
    "\n",
    "Let's install the sdx-lib, a Python library made to be as compatible with FABRIC as possible. \n",
    "More details about the SDX-Lib can be found at: https://github.com/atlanticwave-sdx/sdx-lib"
   ]
  },
  {
   "cell_type": "code",
   "execution_count": null,
   "id": "72bc0ffc-0e91-4aac-84ad-d75c200b7898",
   "metadata": {},
   "outputs": [],
   "source": [
    "sdxlib_version = \"0.33.0\"\n",
    "!pip install --no-cache-dir -i https://test.pypi.org/simple/ sdxlib=={sdxlib_version}"
   ]
  },
  {
   "cell_type": "code",
   "execution_count": null,
   "id": "f947bb86-bbd5-4968-b20e-93623c644c1a",
   "metadata": {
    "editable": true,
    "slideshow": {
     "slide_type": ""
    },
    "tags": []
   },
   "outputs": [],
   "source": [
    "# Let's load the SDX-Lib\n",
    "from sdxlib.sdx_client import SDXClient\n",
    "from sdxlib.sdx_exception import SDXException"
   ]
  },
  {
   "cell_type": "markdown",
   "id": "4196abcb-7653-4bd1-ab84-115947502fd7",
   "metadata": {
    "editable": true,
    "slideshow": {
     "slide_type": ""
    },
    "tags": []
   },
   "source": [
    "# Some external functions just for beautification  - unnecessary for the newest SDX-lib release\n",
    "! from sdx_support import print_sdx_ports, print_sdx_services"
   ]
  },
  {
   "cell_type": "markdown",
   "id": "0995686f-088a-423e-b8a3-c35d42644481",
   "metadata": {
    "editable": true,
    "slideshow": {
     "slide_type": ""
    },
    "tags": []
   },
   "source": [
    "###  1. Where is NRP located at AtlanticWave/AmLight ?"
   ]
  },
  {
   "cell_type": "markdown",
   "id": "5d21dfa1-97a7-4471-8467-738d12a7f893",
   "metadata": {},
   "source": [
    "To locate a resource at AmLight, we can use the SDX-Lib."
   ]
  },
  {
   "cell_type": "markdown",
   "id": "e3e72447-337b-4a86-8f59-68a778b347a1",
   "metadata": {},
   "source": [
    "## Assign URL Environment Test or Production"
   ]
  },
  {
   "cell_type": "code",
   "execution_count": null,
   "id": "23b7cd64-9565-4c91-a80c-1a75fab03285",
   "metadata": {},
   "outputs": [],
   "source": [
    "# Production Environment URL\n",
    "sdx_url = \"https://sdxapi.atlanticwave-sdx.ai/production\""
   ]
  },
  {
   "cell_type": "code",
   "execution_count": null,
   "id": "25fb7fb8-0277-437c-93f0-d64c0db7617b",
   "metadata": {},
   "outputs": [],
   "source": [
    "# Test Environment URL\n",
    "sdx_url = \"https://sdxapi.atlanticwave-sdx.ai/test\""
   ]
  },
  {
   "cell_type": "markdown",
   "id": "ce006489-4e2b-431a-b71d-ab6558cd0236",
   "metadata": {},
   "source": [
    "## Instantiate SDX Client"
   ]
  },
  {
   "cell_type": "code",
   "execution_count": null,
   "id": "64821a31-b77a-4962-8de5-543977757dda",
   "metadata": {},
   "outputs": [],
   "source": [
    "# Let's instantiate the SDX-Lib via SDXClient class passing the URL above\n",
    "client=SDXClient(sdx_url)"
   ]
  },
  {
   "cell_type": "markdown",
   "id": "c990374f-c12d-4b96-891a-af256356e0c5",
   "metadata": {},
   "source": [
    "## Get all available ports "
   ]
  },
  {
   "cell_type": "code",
   "execution_count": null,
   "id": "76cc9b57-a0f9-4ac8-8e1b-7d3ce5448506",
   "metadata": {},
   "outputs": [],
   "source": [
    "client.get_available_ports(search=None)"
   ]
  },
  {
   "cell_type": "markdown",
   "id": "d10cf917-bcc6-4731-bb2e-235ebb0e7759",
   "metadata": {},
   "source": [
    "## Search specific Available Ports by Entities"
   ]
  },
  {
   "cell_type": "code",
   "execution_count": null,
   "id": "eba581dc-d01e-4396-a8b3-fa3a213598dd",
   "metadata": {},
   "outputs": [],
   "source": [
    "client.get_available_ports(search=\"NRP\")"
   ]
  },
  {
   "cell_type": "markdown",
   "id": "b712fb27-2bdd-45b3-9b04-83f95f4bfdd4",
   "metadata": {
    "editable": true,
    "slideshow": {
     "slide_type": ""
    },
    "tags": []
   },
   "source": [
    "# Just attribute \n",
    "nrp_port_id = print_sdx_ports(sdx_client.get_available_ports(format=\"json\"), search=\"NRP - <KNIT10>\", return_id_only=True)\n",
    "print(nrp_port_id)"
   ]
  },
  {
   "cell_type": "code",
   "execution_count": null,
   "id": "e0f54007-a66f-4d1f-a8dd-7451a0c6ea6f",
   "metadata": {
    "editable": true,
    "slideshow": {
     "slide_type": ""
    },
    "tags": []
   },
   "outputs": [],
   "source": [
    "# Then we assign it manually:\n",
    "nrp_port_id = \"urn:sdx:port:amlight.net:JAX-LUM-SW01:21\""
   ]
  },
  {
   "cell_type": "code",
   "execution_count": null,
   "id": "ca536afc-85cc-4f09-ad9c-a2f469d8c2b9",
   "metadata": {},
   "outputs": [],
   "source": [
    "# Let's choose a VLAN\n",
    "nrp_vlan = \"4001\""
   ]
  },
  {
   "cell_type": "markdown",
   "id": "a711b8ee-88d5-4d68-a859-a2d0e582b84e",
   "metadata": {},
   "source": [
    "###  2. Where is FABRIC's facility port located at AmLight ?\n",
    "\n",
    "Let's use the SDX-Lib again."
   ]
  },
  {
   "cell_type": "code",
   "execution_count": null,
   "id": "c69bd849-bb96-4f8e-a8d9-73e17b357fa5",
   "metadata": {},
   "outputs": [],
   "source": [
    "client.get_available_ports(search=\"FABRIC\")"
   ]
  },
  {
   "cell_type": "code",
   "execution_count": null,
   "id": "5f7ec84c-e0a9-4498-8c69-c38a52d9cccd",
   "metadata": {
    "editable": true,
    "slideshow": {
     "slide_type": ""
    },
    "tags": []
   },
   "outputs": [],
   "source": [
    "fabric_port_id = \"urn:sdx:port:amlight.net:MIA-MI1-SW17:7\"\n",
    "fabric_vlan = \"4016\" # Chosen above during the instantiation of the facility port"
   ]
  },
  {
   "cell_type": "markdown",
   "id": "d675c1e3-1642-4f58-b7cc-022883913f13",
   "metadata": {
    "editable": true,
    "slideshow": {
     "slide_type": ""
    },
    "tags": []
   },
   "source": [
    "## 3. Which VLAN ID to use? \n",
    "\n",
    "Because AtlanticWave-SDX supports VLAN translation, it is acceptable to have a VLAN ID at NRP and a different VLAN ID at the Facility port. We identified the VLAN IDs to use in the previous steps."
   ]
  },
  {
   "cell_type": "markdown",
   "id": "f641faee-a96f-4d62-9a36-96a9a59729e8",
   "metadata": {},
   "source": [
    "## 4. Build a L2VPN at AmLight connecting NRP to FABRIC via Facility Port"
   ]
  },
  {
   "cell_type": "code",
   "execution_count": null,
   "id": "665e1711-5e1c-4a51-bdce-d2ccb5f7697e",
   "metadata": {
    "editable": true,
    "slideshow": {
     "slide_type": ""
    },
    "tags": []
   },
   "outputs": [],
   "source": [
    "# There are two mandatory attributes to create a L2VPN/VLAN on AmLight:\n",
    "# a name\n",
    "# a list of endpoints, each endpoint with its port_id and a VLAN ID\n",
    "\n",
    "l2vpn_name = \"FABRIC KNIT 10 L2VPN between FABRIC and NRP\"\n",
    "l2vpn_endpoints = [\n",
    "    {\"port_id\": fabric_port_id, \"vlan\": fabric_vlan}, \n",
    "    {\"port_id\": nrp_port_id, \"vlan\": nrp_vlan},\n",
    "]\n",
    "\n",
    "sdx_l2vpn = SDXClient(sdx_url, l2vpn_name, l2vpn_endpoints)\n",
    "\n",
    "try:\n",
    "    my_knit10_l2vpn = sdx_l2vpn.create_l2vpn()\n",
    "    print(f\"L2VPN response: {my_knit10_l2vpn.get('message')}\")\n",
    "except SDXException as e:\n",
    "    print(f\"L2VPN creation failed: {e}\") \n"
   ]
  },
  {
   "cell_type": "markdown",
   "id": "cee8323c-d38a-4478-a066-3cc5d3380fdd",
   "metadata": {},
   "source": [
    "# Get L2VPN Service Id filtered by L2vpn name"
   ]
  },
  {
   "cell_type": "code",
   "execution_count": null,
   "id": "524ea348-42a0-4955-87a8-13e7ef03961e",
   "metadata": {},
   "outputs": [],
   "source": [
    "service_id = sdx_l2vpn.get_all_l2vpns(format=\"json\", search=\"FABRIC KNIT 10 L2VPN between FABRIC and NRP\")[0].get('Service ID')"
   ]
  },
  {
   "cell_type": "markdown",
   "id": "104b4345-262c-4f3c-ad9b-b72bd32b7395",
   "metadata": {},
   "source": [
    "# Print L2VPN Attributes for the retrieved Service Id"
   ]
  },
  {
   "cell_type": "code",
   "execution_count": null,
   "id": "0b12de7f-1481-4da0-a6a4-a690aacade3a",
   "metadata": {},
   "outputs": [],
   "source": [
    "sdx_l2vpn.get_l2vpn(service_id=service_id)"
   ]
  },
  {
   "cell_type": "markdown",
   "id": "4beb0e8b-ec0b-4921-a905-e3fa4c18553b",
   "metadata": {
    "editable": true,
    "slideshow": {
     "slide_type": ""
    },
    "tags": []
   },
   "source": [
    "## In case we need to delete the L2VPN"
   ]
  },
  {
   "cell_type": "code",
   "execution_count": null,
   "id": "a61b728f-65de-46d0-abc4-c312fc7fde79",
   "metadata": {
    "editable": true,
    "slideshow": {
     "slide_type": ""
    },
    "tags": []
   },
   "outputs": [],
   "source": [
    "sdx_l2vpn.delete_l2vpn(service_id=service_id)"
   ]
  },
  {
   "cell_type": "markdown",
   "id": "de911095-c213-48e4-bfe5-5c673b20202d",
   "metadata": {},
   "source": [
    "# NRP Section: Instantiating a NRP K8s Pod\n",
    "\n",
    "In this section, we will instantiate a pod at NRP and start an iPerf3 session. More documentation about NRP can be found at: https://nationalresearchplatform.org/documentation/"
   ]
  },
  {
   "cell_type": "markdown",
   "id": "8bb6bd1a-7593-4a62-afc2-1589970727b6",
   "metadata": {},
   "source": [
    "#### Step 1: upload your kube config to the kube_config folder. This step is manual and the file's content is sensitive. \n",
    "\n",
    "Follow steps in the NRP documentation."
   ]
  },
  {
   "cell_type": "markdown",
   "id": "880ce49e-042a-4411-928e-60f91a2f7a77",
   "metadata": {},
   "source": [
    "#### Step 2: Download the Python's NRP wraper\n",
    "\n",
    "https://github.com/atlanticwave-sdx/sdx-sc24-nautilus-demo/blob/master/nautilus_utils.py"
   ]
  },
  {
   "cell_type": "markdown",
   "id": "7db507a8-1a56-4555-a6b9-b429887be3c4",
   "metadata": {},
   "source": [
    "#### Step 3: Install the Kubernetes libraries"
   ]
  },
  {
   "cell_type": "code",
   "execution_count": null,
   "id": "1dfc97ec-26ef-45d6-bab7-426d25da940f",
   "metadata": {},
   "outputs": [],
   "source": [
    "%pip install kubernetes"
   ]
  },
  {
   "cell_type": "markdown",
   "id": "7798f57d-0fa9-4f36-9d05-7587f693ccba",
   "metadata": {},
   "source": [
    "#### Step 4: Import the Python libraries"
   ]
  },
  {
   "cell_type": "code",
   "execution_count": null,
   "id": "8f346a03-80be-4b8b-a92a-e6c2cf444654",
   "metadata": {},
   "outputs": [],
   "source": [
    "from nautilus_utils import create_deployment, run_command, wait_for_pod_ready, delete_vlan, delete_deployment, reload_config"
   ]
  },
  {
   "cell_type": "code",
   "execution_count": null,
   "id": "ec4f6ecc-7629-468f-bfd2-cb3d82fce7be",
   "metadata": {},
   "outputs": [],
   "source": [
    "# Let's create the deployment using the Python K8s library. This function will return True if everything goes well.\n",
    "\n",
    "#from kubernetes import client\n",
    "#app_v1 = client.AppsV1Api()\n",
    "#app_v1.create_namespaced_deployment(namespace=NAMESPACE, body=deploy_dict)"
   ]
  },
  {
   "cell_type": "code",
   "execution_count": null,
   "id": "e8c4c782-58d3-45de-a7bd-39604de6de1f",
   "metadata": {},
   "outputs": [],
   "source": [
    "create_deployment(\n",
    "    name=\"amlight-demo\",\n",
    "    image=\"gitlab-registry.nrp-nautilus.io/prp/perfsonar/testpoint\",\n",
    "    nrp_node=\"k8s-gen4-01.ampath.net\",\n",
    "    node_iface=\"enp193s0f1\",\n",
    "    vlan=3999\n",
    ")"
   ]
  },
  {
   "cell_type": "code",
   "execution_count": null,
   "id": "3f137119-d5e8-4ab3-bfca-bdd1cbb007ea",
   "metadata": {},
   "outputs": [],
   "source": [
    "# Let's wait for the pod to get ready. It will return True."
   ]
  },
  {
   "cell_type": "code",
   "execution_count": null,
   "id": "9c2d2233-0bf0-41f1-9abc-620a3d51bfdb",
   "metadata": {},
   "outputs": [],
   "source": [
    "wait_for_pod_ready(name=\"amlight-demo\")"
   ]
  },
  {
   "cell_type": "code",
   "execution_count": null,
   "id": "db7e2a67-41be-45dc-a06f-a441fb6afbec",
   "metadata": {},
   "outputs": [],
   "source": [
    "# Let's run an ifconfig on our instance"
   ]
  },
  {
   "cell_type": "code",
   "execution_count": null,
   "id": "5a83889f-7eb1-4518-9793-0369719474cb",
   "metadata": {},
   "outputs": [],
   "source": [
    "print(run_command(\"amlight-demo\", \"ip addr show dev net1\"))"
   ]
  },
  {
   "cell_type": "code",
   "execution_count": null,
   "id": "bf8de47e-3f0c-48b1-bdd6-c951298e55e1",
   "metadata": {},
   "outputs": [],
   "source": [
    "# Let's start iperf3 "
   ]
  },
  {
   "cell_type": "code",
   "execution_count": null,
   "id": "4963ef9d-8501-4b3a-b628-99c1a17868f7",
   "metadata": {},
   "outputs": [],
   "source": [
    "print(run_command(\"amlight-demo\", \"iperf3 -sD\"))"
   ]
  },
  {
   "cell_type": "markdown",
   "id": "58a08e3f-1192-49f1-80f8-5575a36f5934",
   "metadata": {},
   "source": [
    "### Run the iperf3 tests between our FABRIC slice's virtual machine and the NRP pod's iperf3 server\n"
   ]
  },
  {
   "cell_type": "code",
   "execution_count": null,
   "id": "70612bb3-a722-43a9-bcfb-50ac89fea818",
   "metadata": {
    "editable": true,
    "slideshow": {
     "slide_type": ""
    },
    "tags": []
   },
   "outputs": [],
   "source": [
    "from ipaddress import ip_address, IPv4Address, IPv6Address, IPv4Network, IPv6Network\n",
    "\n",
    "# Let's choose a random subnet but it needs to be coordinated with the NRP deployment\n",
    "subnet = IPv4Network(\"10.1.11.0/24\")\n",
    "node_addr = list(subnet)[2]\n",
    "\n",
    "node = slice.get_node(name=f\"Node1\")        \n",
    "node_iface = node.get_interface(network_name=f'net_facility_port') \n"
   ]
  },
  {
   "cell_type": "code",
   "execution_count": null,
   "id": "bb854ebd-244b-440b-83a6-6b4a41289284",
   "metadata": {},
   "outputs": [],
   "source": [
    "node_iface.ip_addr_add(addr=node_addr, subnet=subnet)"
   ]
  },
  {
   "cell_type": "code",
   "execution_count": null,
   "id": "dc65e3a4-f0fa-4f48-a758-cbc089bc201d",
   "metadata": {},
   "outputs": [],
   "source": [
    "stdout, stderr = node.execute(f'sudo ip link set dev {node_iface.get_physical_os_interface_name()} up')\n",
    "stdout, stderr = node.execute(f'sudo ip link set dev {node_iface.get_os_interface()} up')\n",
    "stdout, stderr = node.execute(f'ip addr show {node_iface.get_os_interface()}')"
   ]
  },
  {
   "cell_type": "markdown",
   "id": "240b501e-f1e3-455f-b878-b1826125588b",
   "metadata": {},
   "source": [
    "Replace the IP address below for the IP address provided by NRP's ifconfig execution."
   ]
  },
  {
   "cell_type": "code",
   "execution_count": null,
   "id": "88b75702-2be8-43a2-b25d-9a9e2375b5dd",
   "metadata": {
    "editable": true,
    "slideshow": {
     "slide_type": ""
    },
    "tags": []
   },
   "outputs": [],
   "source": [
    "nrp_ip = '10.1.11.15'\n",
    "stdout, stderr = node.execute(f'ping -c 5 {nrp_ip}')"
   ]
  },
  {
   "cell_type": "code",
   "execution_count": null,
   "id": "fba081c4-260a-4f1f-8550-bf61bdc5c179",
   "metadata": {
    "editable": true,
    "slideshow": {
     "slide_type": ""
    },
    "tags": []
   },
   "outputs": [],
   "source": [
    "stdout, stderr = node.execute(\"docker run --rm \"\n",
    "                                \"--network host \"\n",
    "                                \"fabrictestbed/slice-vm-rocky8-multitool:0.0.2 \"\n",
    "                                f\"iperf3 -c {nrp_ip} -w 512k -i 1 -n 50M\"\n",
    "                                , quiet=False, output_file=f\"{node.get_name()}.log\");\n"
   ]
  },
  {
   "cell_type": "markdown",
   "id": "44679d9d-e8ed-4fd4-b79e-b204ddd35e2a",
   "metadata": {
    "editable": true,
    "slideshow": {
     "slide_type": ""
    },
    "tags": []
   },
   "source": [
    "## Cleaning up before we go!"
   ]
  },
  {
   "cell_type": "code",
   "execution_count": null,
   "id": "18b15013-c392-4f94-b037-6afc3afaa053",
   "metadata": {},
   "outputs": [],
   "source": [
    "# Delete the SDX L2VPN created\n",
    "#sdx_l2vpn.delete_l2vpn(service_id=service_id)\n",
    "\n",
    "# Delete the FABRIC slice\n",
    "#slice.delete()"
   ]
  },
  {
   "cell_type": "code",
   "execution_count": null,
   "id": "4d780a4e-1755-4d1f-af1b-74e218c5e5ca",
   "metadata": {},
   "outputs": [],
   "source": [
    "print(\"Thanks! See you next time!\")"
   ]
  }
 ],
 "metadata": {
  "kernelspec": {
   "display_name": "Python 3 (ipykernel)",
   "language": "python",
   "name": "python3"
  },
  "language_info": {
   "codemirror_mode": {
    "name": "ipython",
    "version": 3
   },
   "file_extension": ".py",
   "mimetype": "text/x-python",
   "name": "python",
   "nbconvert_exporter": "python",
   "pygments_lexer": "ipython3",
   "version": "3.11.9"
  }
 },
 "nbformat": 4,
 "nbformat_minor": 5
}
