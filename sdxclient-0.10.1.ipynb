{
 "cells": [
  {
   "cell_type": "markdown",
   "metadata": {
    "tags": []
   },
   "source": [
    "## SDX-Fabric API\n",
    "AtlanticWave SDX Cross-Domain Orchestration and Provisioning for Facilities and R&E Networks user interfaces with the SDXLib in Fabric Jupyter Notebook\n",
    "\n",
    "This notebook experiment emphasizes the building of Layer 2 VPNs and the use of Fabric Facility Ports for network orchestration and provisioning across domains. It shows the integration of SDX Lib with the SDX Controller by using token-based authentication, closing the security gap and promoting safe communication between SDX Lib and the SDX Controller.\n",
    "\n",
    "## Configure the Environment\n",
    "If you are using the FABRIC JupyterHub many of the environment variables will be automatically configured for you.    \n",
    "If you are using the FABRIC API outside of the JupyterHub you will need to configure all of the environment variables. \n",
    "\n",
    "## Step 1:  Authentication & Token Handling\n",
    "\n",
    "Obtain the Token\n",
    "When a user logs into FABRIC Jupyter Hub, the system automatically obtains and stores a token.\n",
    "\n",
    "Environment variable: $FABRIC_TOKEN_LOCATION\n",
    "Default path: /home/fabric/.tokens.json\n",
    "\n",
    "## Import the FABlib Library and get the id token\n",
    "\n",
    "## Session/Auth\n",
    "\n",
    "SDXClient(timeout=6.0, token=None, session=None)\n",
    "Creates a client bound to BASE_URL. If no token is given, tries to load it with fablib. Keeps a requests.Session for reuse.\n",
    "\n",
    "set_token(token)\n",
    "Replace or inject the Bearer token at runtime.\n",
    "\n",
    "## Discovery (read-only)\n",
    "\n",
    "get_topology()\n",
    "GET /topology. Returns raw topology JSON (as served by the API).\n",
    "\n",
    "get_available_ports(search=None, filter=None, limit=None, fields=None, format=\"html\")\n",
    "GET /available_ports. Lists customer-facing ports with VLAN availability.\n",
    "\n",
    "filter: plain, case-insensitive substring across Port ID / Device / Port (space terms ANDed).\n",
    "\n",
    "search: key:value tokens + plain terms.\n",
    "\n",
    "If both are present, filter wins.\n",
    "\n",
    "format=\"html\" → HTML table (string). format=\"json\" → structured JSON.\n",
    "\n",
    "get_all_vlans_available()\n",
    "GET /available_vlans?format=json. Bulk compact ranges per port (e.g., [\"100-120\",\"300\"]).\n",
    "\n",
    "get_port_vlans_available(port_id)\n",
    "GET /available_vlans?port_id=...&format=json. VLAN ranges for a specific port.\n",
    "\n",
    "## Selection (stateful)\n",
    "\n",
    "begin_l2vpn_selection() / clear_selection()\n",
    "Reset the internal selection: first=None, second=None.\n",
    "\n",
    "get_selected_endpoints()\n",
    "Peek at what’s currently selected ({\"first\": ..., \"second\": ...}).\n",
    "\n",
    "set_endpoint(endpoint_position, *, filter=None, search=None, port_id=None, vlan=None, prefer_untagged=False)\n",
    "Pick and store the \"first\" or \"second\" endpoint. Two paths:\n",
    "\n",
    "Direct: supply port_id (URN) → fetch /device_info → pick a VLAN (or use vlan if given).\n",
    "\n",
    "Text: supply filter or search → list /available_ports?format=json → narrow candidates → fetch /device_info for the chosen row → pick a VLAN.\n",
    "Ambiguity returns status_code: 0 and a short candidate list.\n",
    "prefer_untagged=True asks the picker to choose untagged if offered.\n",
    "\n",
    "## Payload & L2VPN CRUD (via routes)\n",
    "\n",
    "preview_l2vpn_payload(name, notifications)\n",
    "Returns the JSON body that POST /l2vpn will receive. Requires both endpoints selected.\n",
    "\n",
    "create_l2vpn_from_selection(name, notifications)\n",
    "Builds payload (via preview_l2vpn_payload) and posts to POST /l2vpn.\n",
    "\n",
    "get_l2vpns(**query)\n",
    "GET /l2vpns with optional filters (e.g., archived, search).\n",
    "\n",
    "get_l2vpn(service_id)\n",
    "GET /l2vpn/<service_id>.\n",
    "\n",
    "update_l2vpn(service_id, **fields)\n",
    "PATCH /l2vpn/<service_id>.\n",
    "\n",
    "delete_l2vpn(service_id)\n",
    "DELETE /l2vpn/<service_id>.\n",
    "\n",
    "## Tips\n",
    "\n",
    "If you pass both filter and search, filter is used.\n",
    "\n",
    "Ambiguous text matches: you’ll get {status_code: 0, data: {\"candidates\": [...]}}. Refine text or use exact port_id.\n",
    "\n",
    "prefer_untagged=True only matters when untagged is advertised for that port; otherwise the first available token/range is used.\n",
    "\n",
    "For machine workflows, favor format=\"json\" and parse the ports array."
   ]
  },
  {
   "cell_type": "markdown",
   "metadata": {},
   "source": [
    "# Check if sdxclient is installed, uninstall it if needed"
   ]
  },
  {
   "cell_type": "code",
   "execution_count": 1,
   "metadata": {},
   "outputs": [
    {
     "name": "stdout",
     "output_type": "stream",
     "text": [
      "\u001b[33mWARNING: Package(s) not found: sdxclient\u001b[0m\u001b[33m\n",
      "\u001b[0m"
     ]
    }
   ],
   "source": [
    "!pip show sdxclient\n",
    "#!pip uninstall -y sdxlib  # Uninstall if installed"
   ]
  },
  {
   "cell_type": "code",
   "execution_count": 2,
   "metadata": {},
   "outputs": [
    {
     "name": "stdout",
     "output_type": "stream",
     "text": [
      "Collecting sdxclient\n",
      "  Downloading sdxclient-0.10.1-py3-none-any.whl.metadata (10.0 kB)\n",
      "Requirement already satisfied: requests>=2.31.0 in /opt/conda/lib/python3.11/site-packages (from sdxclient) (2.32.3)\n",
      "Requirement already satisfied: pandas>=2.0.0 in /opt/conda/lib/python3.11/site-packages (from sdxclient) (2.3.2)\n",
      "Requirement already satisfied: PyJWT>=2.6.0 in /opt/conda/lib/python3.11/site-packages (from sdxclient) (2.9.0)\n",
      "Requirement already satisfied: numpy>=1.23.2 in /opt/conda/lib/python3.11/site-packages (from pandas>=2.0.0->sdxclient) (2.3.2)\n",
      "Requirement already satisfied: python-dateutil>=2.8.2 in /opt/conda/lib/python3.11/site-packages (from pandas>=2.0.0->sdxclient) (2.9.0)\n",
      "Requirement already satisfied: pytz>=2020.1 in /opt/conda/lib/python3.11/site-packages (from pandas>=2.0.0->sdxclient) (2024.1)\n",
      "Requirement already satisfied: tzdata>=2022.7 in /opt/conda/lib/python3.11/site-packages (from pandas>=2.0.0->sdxclient) (2025.2)\n",
      "Requirement already satisfied: charset-normalizer<4,>=2 in /opt/conda/lib/python3.11/site-packages (from requests>=2.31.0->sdxclient) (3.3.2)\n",
      "Requirement already satisfied: idna<4,>=2.5 in /opt/conda/lib/python3.11/site-packages (from requests>=2.31.0->sdxclient) (3.7)\n",
      "Requirement already satisfied: urllib3<3,>=1.21.1 in /opt/conda/lib/python3.11/site-packages (from requests>=2.31.0->sdxclient) (2.2.2)\n",
      "Requirement already satisfied: certifi>=2017.4.17 in /opt/conda/lib/python3.11/site-packages (from requests>=2.31.0->sdxclient) (2024.7.4)\n",
      "Requirement already satisfied: six>=1.5 in /opt/conda/lib/python3.11/site-packages (from python-dateutil>=2.8.2->pandas>=2.0.0->sdxclient) (1.16.0)\n",
      "Downloading sdxclient-0.10.1-py3-none-any.whl (16 kB)\n",
      "Installing collected packages: sdxclient\n",
      "Successfully installed sdxclient-0.10.1\n"
     ]
    }
   ],
   "source": [
    "!pip install sdxclient"
   ]
  },
  {
   "cell_type": "markdown",
   "metadata": {},
   "source": [
    "## Instantiate the SDXclient"
   ]
  },
  {
   "cell_type": "code",
   "execution_count": 3,
   "metadata": {
    "tags": []
   },
   "outputs": [
    {
     "name": "stdout",
     "output_type": "stream",
     "text": [
      "User: lmarinve@fiu.edu bastion key is valid!\n",
      "Configuration is valid\n"
     ]
    }
   ],
   "source": [
    "from IPython.display import HTML\n",
    "from sdxclient.client import SDXClient\n",
    "client = SDXClient()"
   ]
  },
  {
   "cell_type": "markdown",
   "metadata": {},
   "source": [
    "## List available ports with server-side filtering (search, limit)."
   ]
  },
  {
   "cell_type": "code",
   "execution_count": 4,
   "metadata": {},
   "outputs": [
    {
     "data": {
      "text/html": [
       "<table border=\"1\" class=\"dataframe\">\n",
       "  <thead>\n",
       "    <tr style=\"text-align: right;\">\n",
       "      <th>Domain</th>\n",
       "      <th>Device</th>\n",
       "      <th>Port</th>\n",
       "      <th>Status</th>\n",
       "      <th>Port ID</th>\n",
       "      <th>Entities</th>\n",
       "      <th>VLANs Available</th>\n",
       "      <th>VLANs in Use</th>\n",
       "    </tr>\n",
       "  </thead>\n",
       "  <tbody>\n",
       "    <tr>\n",
       "      <td>sax.net</td>\n",
       "      <td>FOR-ACB-SW01</td>\n",
       "      <td>et-0/1/0</td>\n",
       "      <td>up</td>\n",
       "      <td>urn:sdx:port:sax.net:FOR-ACB-SW01:et-0/1/0</td>\n",
       "      <td></td>\n",
       "      <td>1-4095</td>\n",
       "      <td>None</td>\n",
       "    </tr>\n",
       "    <tr>\n",
       "      <td>sax.net</td>\n",
       "      <td>FOR-ACB-SW01</td>\n",
       "      <td>et-0/1/1</td>\n",
       "      <td>up</td>\n",
       "      <td>urn:sdx:port:sax.net:FOR-ACB-SW01:et-0/1/1</td>\n",
       "      <td></td>\n",
       "      <td>1-4095</td>\n",
       "      <td>None</td>\n",
       "    </tr>\n",
       "    <tr>\n",
       "      <td>sax.net</td>\n",
       "      <td>FOR-ACB-SW01</td>\n",
       "      <td>et-1/1/0</td>\n",
       "      <td>up</td>\n",
       "      <td>urn:sdx:port:sax.net:FOR-ACB-SW01:et-1/1/0</td>\n",
       "      <td></td>\n",
       "      <td>1-4095</td>\n",
       "      <td>None</td>\n",
       "    </tr>\n",
       "    <tr>\n",
       "      <td>sax.net</td>\n",
       "      <td>FOR-ACB-SW01</td>\n",
       "      <td>et-1/1/8</td>\n",
       "      <td>up</td>\n",
       "      <td>urn:sdx:port:sax.net:FOR-ACB-SW01:et-1/1/8</td>\n",
       "      <td></td>\n",
       "      <td>1-4095</td>\n",
       "      <td>None</td>\n",
       "    </tr>\n",
       "    <tr>\n",
       "      <td>sax.net</td>\n",
       "      <td>FOR-ACB-SW01</td>\n",
       "      <td>ae1</td>\n",
       "      <td>up</td>\n",
       "      <td>urn:sdx:port:sax.net:FOR-ACB-SW01:ae1</td>\n",
       "      <td></td>\n",
       "      <td>1-4095</td>\n",
       "      <td>None</td>\n",
       "    </tr>\n",
       "    <tr>\n",
       "      <td>sax.net</td>\n",
       "      <td>FOR-ACB-SW01</td>\n",
       "      <td>ae3</td>\n",
       "      <td>up</td>\n",
       "      <td>urn:sdx:port:sax.net:FOR-ACB-SW01:ae3</td>\n",
       "      <td></td>\n",
       "      <td>1-4095</td>\n",
       "      <td>None</td>\n",
       "    </tr>\n",
       "    <tr>\n",
       "      <td>sax.net</td>\n",
       "      <td>FOR-LAN-SW02</td>\n",
       "      <td>et-0/0/1</td>\n",
       "      <td>up</td>\n",
       "      <td>urn:sdx:port:sax.net:FOR-LAN-SW02:et-0/0/1</td>\n",
       "      <td></td>\n",
       "      <td>1-4095</td>\n",
       "      <td>None</td>\n",
       "    </tr>\n",
       "    <tr>\n",
       "      <td>sax.net</td>\n",
       "      <td>FOR-LAN-SW02</td>\n",
       "      <td>et-0/0/2</td>\n",
       "      <td>up</td>\n",
       "      <td>urn:sdx:port:sax.net:FOR-LAN-SW02:et-0/0/2</td>\n",
       "      <td></td>\n",
       "      <td>1-4095</td>\n",
       "      <td>None</td>\n",
       "    </tr>\n",
       "    <tr>\n",
       "      <td>sax.net</td>\n",
       "      <td>FOR-LAN-SW02</td>\n",
       "      <td>ae1</td>\n",
       "      <td>up</td>\n",
       "      <td>urn:sdx:port:sax.net:FOR-LAN-SW02:ae1</td>\n",
       "      <td></td>\n",
       "      <td>1-4095</td>\n",
       "      <td>None</td>\n",
       "    </tr>\n",
       "    <tr>\n",
       "      <td>amlight.net</td>\n",
       "      <td>MIA-MI1-SW14</td>\n",
       "      <td>9</td>\n",
       "      <td>up</td>\n",
       "      <td>urn:sdx:port:amlight.net:MIA-MI1-SW14:9</td>\n",
       "      <td></td>\n",
       "      <td>1-4095</td>\n",
       "      <td>None</td>\n",
       "    </tr>\n",
       "    <tr>\n",
       "      <td>amlight.net</td>\n",
       "      <td>MIA-MI1-SW14</td>\n",
       "      <td>13</td>\n",
       "      <td>up</td>\n",
       "      <td>urn:sdx:port:amlight.net:MIA-MI1-SW14:13</td>\n",
       "      <td></td>\n",
       "      <td>1-4095</td>\n",
       "      <td>None</td>\n",
       "    </tr>\n",
       "    <tr>\n",
       "      <td>amlight.net</td>\n",
       "      <td>MIA-MI1-SW14</td>\n",
       "      <td>19</td>\n",
       "      <td>up</td>\n",
       "      <td>urn:sdx:port:amlight.net:MIA-MI1-SW14:19</td>\n",
       "      <td></td>\n",
       "      <td>1-4095</td>\n",
       "      <td>None</td>\n",
       "    </tr>\n",
       "    <tr>\n",
       "      <td>amlight.net</td>\n",
       "      <td>MIA-MI1-SW14</td>\n",
       "      <td>20</td>\n",
       "      <td>up</td>\n",
       "      <td>urn:sdx:port:amlight.net:MIA-MI1-SW14:20</td>\n",
       "      <td></td>\n",
       "      <td>1-4095</td>\n",
       "      <td>None</td>\n",
       "    </tr>\n",
       "    <tr>\n",
       "      <td>amlight.net</td>\n",
       "      <td>MIA-MI1-SW14</td>\n",
       "      <td>23</td>\n",
       "      <td>up</td>\n",
       "      <td>urn:sdx:port:amlight.net:MIA-MI1-SW14:23</td>\n",
       "      <td></td>\n",
       "      <td>1-4095</td>\n",
       "      <td>None</td>\n",
       "    </tr>\n",
       "    <tr>\n",
       "      <td>amlight.net</td>\n",
       "      <td>MIA-MI1-SW14</td>\n",
       "      <td>114</td>\n",
       "      <td>up</td>\n",
       "      <td>urn:sdx:port:amlight.net:MIA-MI1-SW14:114</td>\n",
       "      <td></td>\n",
       "      <td>1-4095</td>\n",
       "      <td>None</td>\n",
       "    </tr>\n",
       "    <tr>\n",
       "      <td>amlight.net</td>\n",
       "      <td>MIA-MI1-SW15</td>\n",
       "      <td>9</td>\n",
       "      <td>up</td>\n",
       "      <td>urn:sdx:port:amlight.net:MIA-MI1-SW15:9</td>\n",
       "      <td></td>\n",
       "      <td>2990-2999, 4015-4019</td>\n",
       "      <td>None</td>\n",
       "    </tr>\n",
       "    <tr>\n",
       "      <td>amlight.net</td>\n",
       "      <td>MIA-MI1-SW15</td>\n",
       "      <td>10</td>\n",
       "      <td>up</td>\n",
       "      <td>urn:sdx:port:amlight.net:MIA-MI1-SW15:10</td>\n",
       "      <td></td>\n",
       "      <td>1-4095</td>\n",
       "      <td>None</td>\n",
       "    </tr>\n",
       "    <tr>\n",
       "      <td>amlight.net</td>\n",
       "      <td>MIA-MI1-SW15</td>\n",
       "      <td>13</td>\n",
       "      <td>up</td>\n",
       "      <td>urn:sdx:port:amlight.net:MIA-MI1-SW15:13</td>\n",
       "      <td></td>\n",
       "      <td>1-4095</td>\n",
       "      <td>None</td>\n",
       "    </tr>\n",
       "    <tr>\n",
       "      <td>amlight.net</td>\n",
       "      <td>MIA-MI1-SW15</td>\n",
       "      <td>15</td>\n",
       "      <td>up</td>\n",
       "      <td>urn:sdx:port:amlight.net:MIA-MI1-SW15:15</td>\n",
       "      <td></td>\n",
       "      <td>2840-2841</td>\n",
       "      <td>None</td>\n",
       "    </tr>\n",
       "    <tr>\n",
       "      <td>amlight.net</td>\n",
       "      <td>MIA-MI1-SW15</td>\n",
       "      <td>19</td>\n",
       "      <td>up</td>\n",
       "      <td>urn:sdx:port:amlight.net:MIA-MI1-SW15:19</td>\n",
       "      <td></td>\n",
       "      <td>1-4095</td>\n",
       "      <td>None</td>\n",
       "    </tr>\n",
       "  </tbody>\n",
       "</table>"
      ],
      "text/plain": [
       "<IPython.core.display.HTML object>"
      ]
     },
     "execution_count": 4,
     "metadata": {},
     "output_type": "execute_result"
    }
   ],
   "source": [
    "HTML(client.get_available_ports(format=\"html\", limit=20)[\"data\"])"
   ]
  },
  {
   "cell_type": "markdown",
   "metadata": {},
   "source": [
    "### Filter Entities"
   ]
  },
  {
   "cell_type": "code",
   "execution_count": 5,
   "metadata": {},
   "outputs": [
    {
     "data": {
      "text/html": [
       "<table border=\"1\" class=\"dataframe\">\n",
       "  <thead>\n",
       "    <tr style=\"text-align: right;\">\n",
       "      <th>Domain</th>\n",
       "      <th>Device</th>\n",
       "      <th>Port</th>\n",
       "      <th>Status</th>\n",
       "      <th>Port ID</th>\n",
       "      <th>Entities</th>\n",
       "    </tr>\n",
       "  </thead>\n",
       "  <tbody>\n",
       "    <tr>\n",
       "      <td>amlight.net</td>\n",
       "      <td>MIA-MI1-SW17</td>\n",
       "      <td>7</td>\n",
       "      <td>up</td>\n",
       "      <td>urn:sdx:port:amlight.net:MIA-MI1-SW17:7</td>\n",
       "      <td>FABRIC FIU - Miami</td>\n",
       "    </tr>\n",
       "    <tr>\n",
       "      <td>amlight.net</td>\n",
       "      <td>MIA-MI1-SW17</td>\n",
       "      <td>12</td>\n",
       "      <td>up</td>\n",
       "      <td>urn:sdx:port:amlight.net:MIA-MI1-SW17:12</td>\n",
       "      <td>NRP-k8s-gen4-02</td>\n",
       "    </tr>\n",
       "    <tr>\n",
       "      <td>amlight.net</td>\n",
       "      <td>MIA-MI1-SW17</td>\n",
       "      <td>21</td>\n",
       "      <td>up</td>\n",
       "      <td>urn:sdx:port:amlight.net:MIA-MI1-SW17:21</td>\n",
       "      <td>NRP-k8s-ceph-01-eno1</td>\n",
       "    </tr>\n",
       "    <tr>\n",
       "      <td>amlight.net</td>\n",
       "      <td>MIA-MI1-SW17</td>\n",
       "      <td>22</td>\n",
       "      <td>up</td>\n",
       "      <td>urn:sdx:port:amlight.net:MIA-MI1-SW17:22</td>\n",
       "      <td>NRP-k8s-ceph-02-eno1</td>\n",
       "    </tr>\n",
       "    <tr>\n",
       "      <td>amlight.net</td>\n",
       "      <td>MIA-MI1-SW17</td>\n",
       "      <td>23</td>\n",
       "      <td>up</td>\n",
       "      <td>urn:sdx:port:amlight.net:MIA-MI1-SW17:23</td>\n",
       "      <td>NRP-k8s-gen4-01-eno2</td>\n",
       "    </tr>\n",
       "    <tr>\n",
       "      <td>amlight.net</td>\n",
       "      <td>MIA-MI1-SW17</td>\n",
       "      <td>27</td>\n",
       "      <td>up</td>\n",
       "      <td>urn:sdx:port:amlight.net:MIA-MI1-SW17:27</td>\n",
       "      <td>Telemetry Feed</td>\n",
       "    </tr>\n",
       "    <tr>\n",
       "      <td>amlight.net</td>\n",
       "      <td>MIA-MI1-SW18</td>\n",
       "      <td>8</td>\n",
       "      <td>up</td>\n",
       "      <td>urn:sdx:port:amlight.net:MIA-MI1-SW18:8</td>\n",
       "      <td>AmLight DTN - Miami - OX Server</td>\n",
       "    </tr>\n",
       "  </tbody>\n",
       "</table>"
      ],
      "text/plain": [
       "<IPython.core.display.HTML object>"
      ]
     },
     "execution_count": 5,
     "metadata": {},
     "output_type": "execute_result"
    }
   ],
   "source": [
    "HTML(client.get_available_ports(format=\"html\", fields=\"Domain,Device,Port,Status,Port ID,Entities\", limit=20)[\"data\"])"
   ]
  },
  {
   "cell_type": "markdown",
   "metadata": {},
   "source": [
    "### Get Vlans in use"
   ]
  },
  {
   "cell_type": "code",
   "execution_count": 6,
   "metadata": {},
   "outputs": [
    {
     "data": {
      "text/html": [
       "<table border=\"1\" class=\"dataframe\">\n",
       "  <thead>\n",
       "    <tr style=\"text-align: right;\">\n",
       "      <th>Domain</th>\n",
       "      <th>Device</th>\n",
       "      <th>Port</th>\n",
       "      <th>Status</th>\n",
       "      <th>Port ID</th>\n",
       "      <th>Entities</th>\n",
       "      <th>VLANs in Use</th>\n",
       "    </tr>\n",
       "  </thead>\n",
       "  <tbody>\n",
       "    <tr>\n",
       "      <td>amlight.net</td>\n",
       "      <td>MIA-MI1-SW17</td>\n",
       "      <td>7</td>\n",
       "      <td>up</td>\n",
       "      <td>urn:sdx:port:amlight.net:MIA-MI1-SW17:7</td>\n",
       "      <td>FABRIC FIU - Miami</td>\n",
       "      <td>4015</td>\n",
       "    </tr>\n",
       "    <tr>\n",
       "      <td>amlight.net</td>\n",
       "      <td>MIA-MI1-SW18</td>\n",
       "      <td>8</td>\n",
       "      <td>up</td>\n",
       "      <td>urn:sdx:port:amlight.net:MIA-MI1-SW18:8</td>\n",
       "      <td>AmLight DTN - Miami - OX Server</td>\n",
       "      <td>2993</td>\n",
       "    </tr>\n",
       "  </tbody>\n",
       "</table>"
      ],
      "text/plain": [
       "<IPython.core.display.HTML object>"
      ]
     },
     "execution_count": 6,
     "metadata": {},
     "output_type": "execute_result"
    }
   ],
   "source": [
    "HTML(client.get_available_ports(format=\"html\", fields=\"Domain,Device,Port,Status,Port ID,Entities,VLANs in Use\", limit=20)[\"data\"])"
   ]
  },
  {
   "cell_type": "markdown",
   "metadata": {},
   "source": [
    "### Get Vlans available"
   ]
  },
  {
   "cell_type": "code",
   "execution_count": 7,
   "metadata": {},
   "outputs": [
    {
     "data": {
      "text/html": [
       "<table border=\"1\" class=\"dataframe\">\n",
       "  <thead>\n",
       "    <tr style=\"text-align: right;\">\n",
       "      <th>Domain</th>\n",
       "      <th>Device</th>\n",
       "      <th>Port</th>\n",
       "      <th>Status</th>\n",
       "      <th>Port ID</th>\n",
       "      <th>Entities</th>\n",
       "      <th>VLANs Available</th>\n",
       "    </tr>\n",
       "  </thead>\n",
       "  <tbody>\n",
       "    <tr>\n",
       "      <td>amlight.net</td>\n",
       "      <td>MIA-MI1-SW17</td>\n",
       "      <td>7</td>\n",
       "      <td>up</td>\n",
       "      <td>urn:sdx:port:amlight.net:MIA-MI1-SW17:7</td>\n",
       "      <td>FABRIC FIU - Miami</td>\n",
       "      <td>2990-2999, 4016-4094</td>\n",
       "    </tr>\n",
       "    <tr>\n",
       "      <td>amlight.net</td>\n",
       "      <td>MIA-MI1-SW17</td>\n",
       "      <td>12</td>\n",
       "      <td>up</td>\n",
       "      <td>urn:sdx:port:amlight.net:MIA-MI1-SW17:12</td>\n",
       "      <td>NRP-k8s-gen4-02</td>\n",
       "      <td>1-4095</td>\n",
       "    </tr>\n",
       "    <tr>\n",
       "      <td>amlight.net</td>\n",
       "      <td>MIA-MI1-SW17</td>\n",
       "      <td>21</td>\n",
       "      <td>up</td>\n",
       "      <td>urn:sdx:port:amlight.net:MIA-MI1-SW17:21</td>\n",
       "      <td>NRP-k8s-ceph-01-eno1</td>\n",
       "      <td>1-4095</td>\n",
       "    </tr>\n",
       "    <tr>\n",
       "      <td>amlight.net</td>\n",
       "      <td>MIA-MI1-SW17</td>\n",
       "      <td>22</td>\n",
       "      <td>up</td>\n",
       "      <td>urn:sdx:port:amlight.net:MIA-MI1-SW17:22</td>\n",
       "      <td>NRP-k8s-ceph-02-eno1</td>\n",
       "      <td>1-4095</td>\n",
       "    </tr>\n",
       "    <tr>\n",
       "      <td>amlight.net</td>\n",
       "      <td>MIA-MI1-SW17</td>\n",
       "      <td>23</td>\n",
       "      <td>up</td>\n",
       "      <td>urn:sdx:port:amlight.net:MIA-MI1-SW17:23</td>\n",
       "      <td>NRP-k8s-gen4-01-eno2</td>\n",
       "      <td>2990-2999, 4015-4019</td>\n",
       "    </tr>\n",
       "    <tr>\n",
       "      <td>amlight.net</td>\n",
       "      <td>MIA-MI1-SW17</td>\n",
       "      <td>27</td>\n",
       "      <td>up</td>\n",
       "      <td>urn:sdx:port:amlight.net:MIA-MI1-SW17:27</td>\n",
       "      <td>Telemetry Feed</td>\n",
       "      <td>1-4095</td>\n",
       "    </tr>\n",
       "    <tr>\n",
       "      <td>amlight.net</td>\n",
       "      <td>MIA-MI1-SW18</td>\n",
       "      <td>8</td>\n",
       "      <td>up</td>\n",
       "      <td>urn:sdx:port:amlight.net:MIA-MI1-SW18:8</td>\n",
       "      <td>AmLight DTN - Miami - OX Server</td>\n",
       "      <td>2990-2992, 2994-2999</td>\n",
       "    </tr>\n",
       "  </tbody>\n",
       "</table>"
      ],
      "text/plain": [
       "<IPython.core.display.HTML object>"
      ]
     },
     "execution_count": 7,
     "metadata": {},
     "output_type": "execute_result"
    }
   ],
   "source": [
    "HTML(client.get_available_ports(format=\"html\", fields=\"Domain,Device,Port,Status,Port ID,Entities,VLANs Available\", limit=20)[\"data\"])"
   ]
  },
  {
   "cell_type": "markdown",
   "metadata": {},
   "source": [
    "### Search device"
   ]
  },
  {
   "cell_type": "code",
   "execution_count": 8,
   "metadata": {},
   "outputs": [
    {
     "data": {
      "text/html": [
       "<table border=\"1\" class=\"dataframe\">\n",
       "  <thead>\n",
       "    <tr style=\"text-align: right;\">\n",
       "      <th>Domain</th>\n",
       "      <th>Device</th>\n",
       "      <th>Port</th>\n",
       "      <th>Status</th>\n",
       "      <th>Port ID</th>\n",
       "      <th>Entities</th>\n",
       "      <th>VLANs Available</th>\n",
       "      <th>VLANs in Use</th>\n",
       "    </tr>\n",
       "  </thead>\n",
       "  <tbody>\n",
       "    <tr>\n",
       "      <td>amlight.net</td>\n",
       "      <td>MIA-MI1-SW14</td>\n",
       "      <td>9</td>\n",
       "      <td>up</td>\n",
       "      <td>urn:sdx:port:amlight.net:MIA-MI1-SW14:9</td>\n",
       "      <td></td>\n",
       "      <td>1-4095</td>\n",
       "      <td>None</td>\n",
       "    </tr>\n",
       "    <tr>\n",
       "      <td>amlight.net</td>\n",
       "      <td>MIA-MI1-SW14</td>\n",
       "      <td>13</td>\n",
       "      <td>up</td>\n",
       "      <td>urn:sdx:port:amlight.net:MIA-MI1-SW14:13</td>\n",
       "      <td></td>\n",
       "      <td>1-4095</td>\n",
       "      <td>None</td>\n",
       "    </tr>\n",
       "    <tr>\n",
       "      <td>amlight.net</td>\n",
       "      <td>MIA-MI1-SW14</td>\n",
       "      <td>19</td>\n",
       "      <td>up</td>\n",
       "      <td>urn:sdx:port:amlight.net:MIA-MI1-SW14:19</td>\n",
       "      <td></td>\n",
       "      <td>1-4095</td>\n",
       "      <td>None</td>\n",
       "    </tr>\n",
       "    <tr>\n",
       "      <td>amlight.net</td>\n",
       "      <td>MIA-MI1-SW14</td>\n",
       "      <td>20</td>\n",
       "      <td>up</td>\n",
       "      <td>urn:sdx:port:amlight.net:MIA-MI1-SW14:20</td>\n",
       "      <td></td>\n",
       "      <td>1-4095</td>\n",
       "      <td>None</td>\n",
       "    </tr>\n",
       "    <tr>\n",
       "      <td>amlight.net</td>\n",
       "      <td>MIA-MI1-SW14</td>\n",
       "      <td>23</td>\n",
       "      <td>up</td>\n",
       "      <td>urn:sdx:port:amlight.net:MIA-MI1-SW14:23</td>\n",
       "      <td></td>\n",
       "      <td>1-4095</td>\n",
       "      <td>None</td>\n",
       "    </tr>\n",
       "    <tr>\n",
       "      <td>amlight.net</td>\n",
       "      <td>MIA-MI1-SW14</td>\n",
       "      <td>114</td>\n",
       "      <td>up</td>\n",
       "      <td>urn:sdx:port:amlight.net:MIA-MI1-SW14:114</td>\n",
       "      <td></td>\n",
       "      <td>1-4095</td>\n",
       "      <td>None</td>\n",
       "    </tr>\n",
       "    <tr>\n",
       "      <td>amlight.net</td>\n",
       "      <td>MIA-MI1-SW15</td>\n",
       "      <td>9</td>\n",
       "      <td>up</td>\n",
       "      <td>urn:sdx:port:amlight.net:MIA-MI1-SW15:9</td>\n",
       "      <td></td>\n",
       "      <td>2990-2999, 4015-4019</td>\n",
       "      <td>None</td>\n",
       "    </tr>\n",
       "    <tr>\n",
       "      <td>amlight.net</td>\n",
       "      <td>MIA-MI1-SW15</td>\n",
       "      <td>10</td>\n",
       "      <td>up</td>\n",
       "      <td>urn:sdx:port:amlight.net:MIA-MI1-SW15:10</td>\n",
       "      <td></td>\n",
       "      <td>1-4095</td>\n",
       "      <td>None</td>\n",
       "    </tr>\n",
       "    <tr>\n",
       "      <td>amlight.net</td>\n",
       "      <td>MIA-MI1-SW15</td>\n",
       "      <td>13</td>\n",
       "      <td>up</td>\n",
       "      <td>urn:sdx:port:amlight.net:MIA-MI1-SW15:13</td>\n",
       "      <td></td>\n",
       "      <td>1-4095</td>\n",
       "      <td>None</td>\n",
       "    </tr>\n",
       "    <tr>\n",
       "      <td>amlight.net</td>\n",
       "      <td>MIA-MI1-SW15</td>\n",
       "      <td>15</td>\n",
       "      <td>up</td>\n",
       "      <td>urn:sdx:port:amlight.net:MIA-MI1-SW15:15</td>\n",
       "      <td></td>\n",
       "      <td>2840-2841</td>\n",
       "      <td>None</td>\n",
       "    </tr>\n",
       "    <tr>\n",
       "      <td>amlight.net</td>\n",
       "      <td>MIA-MI1-SW15</td>\n",
       "      <td>19</td>\n",
       "      <td>up</td>\n",
       "      <td>urn:sdx:port:amlight.net:MIA-MI1-SW15:19</td>\n",
       "      <td></td>\n",
       "      <td>1-4095</td>\n",
       "      <td>None</td>\n",
       "    </tr>\n",
       "    <tr>\n",
       "      <td>amlight.net</td>\n",
       "      <td>MIA-MI1-SW15</td>\n",
       "      <td>20</td>\n",
       "      <td>up</td>\n",
       "      <td>urn:sdx:port:amlight.net:MIA-MI1-SW15:20</td>\n",
       "      <td></td>\n",
       "      <td>1-4095</td>\n",
       "      <td>None</td>\n",
       "    </tr>\n",
       "    <tr>\n",
       "      <td>amlight.net</td>\n",
       "      <td>MIA-MI1-SW15</td>\n",
       "      <td>23</td>\n",
       "      <td>up</td>\n",
       "      <td>urn:sdx:port:amlight.net:MIA-MI1-SW15:23</td>\n",
       "      <td></td>\n",
       "      <td>1-4095</td>\n",
       "      <td>None</td>\n",
       "    </tr>\n",
       "    <tr>\n",
       "      <td>amlight.net</td>\n",
       "      <td>MIA-MI1-SW15</td>\n",
       "      <td>114</td>\n",
       "      <td>up</td>\n",
       "      <td>urn:sdx:port:amlight.net:MIA-MI1-SW15:114</td>\n",
       "      <td></td>\n",
       "      <td>1-4095</td>\n",
       "      <td>None</td>\n",
       "    </tr>\n",
       "    <tr>\n",
       "      <td>amlight.net</td>\n",
       "      <td>MIA-MI1-SW16</td>\n",
       "      <td>10</td>\n",
       "      <td>up</td>\n",
       "      <td>urn:sdx:port:amlight.net:MIA-MI1-SW16:10</td>\n",
       "      <td></td>\n",
       "      <td>1-4095</td>\n",
       "      <td>None</td>\n",
       "    </tr>\n",
       "    <tr>\n",
       "      <td>amlight.net</td>\n",
       "      <td>MIA-MI1-SW16</td>\n",
       "      <td>13</td>\n",
       "      <td>up</td>\n",
       "      <td>urn:sdx:port:amlight.net:MIA-MI1-SW16:13</td>\n",
       "      <td></td>\n",
       "      <td>1-4095</td>\n",
       "      <td>None</td>\n",
       "    </tr>\n",
       "    <tr>\n",
       "      <td>amlight.net</td>\n",
       "      <td>MIA-MI1-SW16</td>\n",
       "      <td>19</td>\n",
       "      <td>up</td>\n",
       "      <td>urn:sdx:port:amlight.net:MIA-MI1-SW16:19</td>\n",
       "      <td></td>\n",
       "      <td>1-4095</td>\n",
       "      <td>None</td>\n",
       "    </tr>\n",
       "    <tr>\n",
       "      <td>amlight.net</td>\n",
       "      <td>MIA-MI1-SW17</td>\n",
       "      <td>6</td>\n",
       "      <td>up</td>\n",
       "      <td>urn:sdx:port:amlight.net:MIA-MI1-SW17:6</td>\n",
       "      <td></td>\n",
       "      <td>1-4095</td>\n",
       "      <td>None</td>\n",
       "    </tr>\n",
       "    <tr>\n",
       "      <td>amlight.net</td>\n",
       "      <td>MIA-MI1-SW17</td>\n",
       "      <td>7</td>\n",
       "      <td>up</td>\n",
       "      <td>urn:sdx:port:amlight.net:MIA-MI1-SW17:7</td>\n",
       "      <td>FABRIC FIU - Miami</td>\n",
       "      <td>2990-2999, 4016-4094</td>\n",
       "      <td>4015</td>\n",
       "    </tr>\n",
       "    <tr>\n",
       "      <td>amlight.net</td>\n",
       "      <td>MIA-MI1-SW17</td>\n",
       "      <td>8</td>\n",
       "      <td>up</td>\n",
       "      <td>urn:sdx:port:amlight.net:MIA-MI1-SW17:8</td>\n",
       "      <td></td>\n",
       "      <td>1-4095</td>\n",
       "      <td>None</td>\n",
       "    </tr>\n",
       "  </tbody>\n",
       "</table>"
      ],
      "text/plain": [
       "<IPython.core.display.HTML object>"
      ]
     },
     "execution_count": 8,
     "metadata": {},
     "output_type": "execute_result"
    }
   ],
   "source": [
    "HTML(client.get_available_ports(format=\"html\", search=\"MI1\", limit=20)[\"data\"])"
   ]
  },
  {
   "cell_type": "markdown",
   "metadata": {},
   "source": [
    "### Search Fabric"
   ]
  },
  {
   "cell_type": "code",
   "execution_count": 9,
   "metadata": {},
   "outputs": [
    {
     "data": {
      "text/html": [
       "<table border=\"1\" class=\"dataframe\">\n",
       "  <thead>\n",
       "    <tr style=\"text-align: right;\">\n",
       "      <th>Domain</th>\n",
       "      <th>Device</th>\n",
       "      <th>Port</th>\n",
       "      <th>Status</th>\n",
       "      <th>Port ID</th>\n",
       "      <th>Entities</th>\n",
       "      <th>VLANs Available</th>\n",
       "      <th>VLANs in Use</th>\n",
       "    </tr>\n",
       "  </thead>\n",
       "  <tbody>\n",
       "    <tr>\n",
       "      <td>amlight.net</td>\n",
       "      <td>MIA-MI1-SW17</td>\n",
       "      <td>7</td>\n",
       "      <td>up</td>\n",
       "      <td>urn:sdx:port:amlight.net:MIA-MI1-SW17:7</td>\n",
       "      <td>FABRIC FIU - Miami</td>\n",
       "      <td>2990-2999, 4016-4094</td>\n",
       "      <td>4015</td>\n",
       "    </tr>\n",
       "  </tbody>\n",
       "</table>"
      ],
      "text/plain": [
       "<IPython.core.display.HTML object>"
      ]
     },
     "execution_count": 9,
     "metadata": {},
     "output_type": "execute_result"
    }
   ],
   "source": [
    "HTML(client.get_available_ports(format=\"html\", search=\"fabric\", limit=20)[\"data\"])"
   ]
  },
  {
   "cell_type": "markdown",
   "metadata": {},
   "source": [
    "## Troubleshooting & Error examples"
   ]
  },
  {
   "cell_type": "markdown",
   "metadata": {},
   "source": [
    "## Missing parameter"
   ]
  },
  {
   "cell_type": "code",
   "execution_count": 10,
   "metadata": {},
   "outputs": [
    {
     "data": {
      "text/plain": [
       "{'status_code': 0,\n",
       " 'data': None,\n",
       " 'error': 'missing required parameter(s): port_id'}"
      ]
     },
     "execution_count": 10,
     "metadata": {},
     "output_type": "execute_result"
    }
   ],
   "source": [
    "client.get_port_vlans_available()   # no port_id"
   ]
  },
  {
   "cell_type": "markdown",
   "metadata": {},
   "source": [
    "## Correct usage"
   ]
  },
  {
   "cell_type": "code",
   "execution_count": 11,
   "metadata": {},
   "outputs": [
    {
     "data": {
      "text/plain": [
       "{'status_code': 200,\n",
       " 'data': {'count': 1,\n",
       "  'status_code': 200,\n",
       "  'vlans': [{'port_id': 'urn:sdx:port:amlight.net:MIA-MI1-SW17:27',\n",
       "    'vlans_available': ['1-4095']}]},\n",
       " 'error': None}"
      ]
     },
     "execution_count": 11,
     "metadata": {},
     "output_type": "execute_result"
    }
   ],
   "source": [
    "client.get_port_vlans_available(\"urn:sdx:port:amlight.net:MIA-MI1-SW17:27\")"
   ]
  },
  {
   "cell_type": "markdown",
   "metadata": {},
   "source": [
    "## Get All VLANs"
   ]
  },
  {
   "cell_type": "code",
   "execution_count": null,
   "metadata": {},
   "outputs": [],
   "source": [
    "# client.get_all_vlans_available()"
   ]
  },
  {
   "cell_type": "markdown",
   "metadata": {},
   "source": [
    "## Clears any previously stored endpoints"
   ]
  },
  {
   "cell_type": "code",
   "execution_count": 12,
   "metadata": {},
   "outputs": [
    {
     "data": {
      "text/plain": [
       "{'status_code': 200,\n",
       " 'data': {'name': None,\n",
       "  'notifications': None,\n",
       "  'first': None,\n",
       "  'second': None,\n",
       "  'service_id': None},\n",
       " 'error': None}"
      ]
     },
     "execution_count": 12,
     "metadata": {},
     "output_type": "execute_result"
    }
   ],
   "source": [
    "client.clear_selection()"
   ]
  },
  {
   "cell_type": "markdown",
   "metadata": {},
   "source": [
    "## SET ENDPOINTS"
   ]
  },
  {
   "cell_type": "markdown",
   "metadata": {},
   "source": [
    "## Set Endpoint Ambiguous search/filter"
   ]
  },
  {
   "cell_type": "code",
   "execution_count": 13,
   "metadata": {},
   "outputs": [
    {
     "data": {
      "text/plain": [
       "{'status_code': 0,\n",
       " 'data': {'candidates': ['urn:sdx:port:amlight.net:MIA-MI1-SW17:6',\n",
       "   'urn:sdx:port:amlight.net:MIA-MI1-SW17:7',\n",
       "   'urn:sdx:port:amlight.net:MIA-MI1-SW17:8',\n",
       "   'urn:sdx:port:amlight.net:MIA-MI1-SW17:10',\n",
       "   'urn:sdx:port:amlight.net:MIA-MI1-SW17:12',\n",
       "   'urn:sdx:port:amlight.net:MIA-MI1-SW17:13',\n",
       "   'urn:sdx:port:amlight.net:MIA-MI1-SW17:14',\n",
       "   'urn:sdx:port:amlight.net:MIA-MI1-SW17:15']},\n",
       " 'error': 'ambiguous filter/search matched 22 ports; refine or use exact port_id'}"
      ]
     },
     "execution_count": 13,
     "metadata": {},
     "output_type": "execute_result"
    }
   ],
   "source": [
    "client.set_endpoint(endpoint_position=\"first\", filter=\"SW17\")"
   ]
  },
  {
   "cell_type": "markdown",
   "metadata": {},
   "source": [
    "## Set Endpoint wrong port_id"
   ]
  },
  {
   "cell_type": "code",
   "execution_count": 14,
   "metadata": {},
   "outputs": [
    {
     "data": {
      "text/plain": [
       "{'status_code': 400,\n",
       " 'data': {'error': \"missing 'device' query parameter\", 'status_code': 400},\n",
       " 'error': \"missing 'device' query parameter\"}"
      ]
     },
     "execution_count": 14,
     "metadata": {},
     "output_type": "execute_result"
    }
   ],
   "source": [
    "client.set_endpoint(endpoint_position=\"second\", port_id=\"urn:...:SW17:27\", vlan=\"4094\")"
   ]
  },
  {
   "cell_type": "markdown",
   "metadata": {},
   "source": [
    "## Set Endpoint VLAN not available on port"
   ]
  },
  {
   "cell_type": "code",
   "execution_count": 15,
   "metadata": {},
   "outputs": [
    {
     "data": {
      "text/plain": [
       "{'status_code': 0,\n",
       " 'data': {'port_id': 'urn:sdx:port:amlight.net:MIA-MI1-SW15:15',\n",
       "  'available': ['2840-2841']},\n",
       " 'error': \"VLAN '4094' not available on port 'urn:sdx:port:amlight.net:MIA-MI1-SW15:15'\"}"
      ]
     },
     "execution_count": 15,
     "metadata": {},
     "output_type": "execute_result"
    }
   ],
   "source": [
    "client.set_endpoint(endpoint_position=\"second\", port_id=\"urn:sdx:port:amlight.net:MIA-MI1-SW15:15\", vlan=\"4094\")"
   ]
  },
  {
   "cell_type": "markdown",
   "metadata": {},
   "source": [
    "## Missing required name"
   ]
  },
  {
   "cell_type": "code",
   "execution_count": 16,
   "metadata": {},
   "outputs": [
    {
     "data": {
      "text/plain": [
       "{'status_code': 0,\n",
       " 'data': None,\n",
       " 'error': 'missing L2VPN name (set via set_l2vpn_payload)'}"
      ]
     },
     "execution_count": 16,
     "metadata": {},
     "output_type": "execute_result"
    }
   ],
   "source": [
    "client.set_endpoint(endpoint_position=\"first\", filter=\"SW17:7\", vlan=2990)\n",
    "client.set_endpoint(endpoint_position=\"second\", filter=\"SW17:7\", vlan=2990)\n",
    "client.get_l2vpn_payload()"
   ]
  },
  {
   "cell_type": "markdown",
   "metadata": {},
   "source": [
    "# used VLAN not Available"
   ]
  },
  {
   "cell_type": "code",
   "execution_count": 17,
   "metadata": {},
   "outputs": [
    {
     "data": {
      "text/plain": [
       "{'status_code': 200,\n",
       " 'data': {'port_id': 'urn:sdx:port:amlight.net:MIA-MI1-SW17:7',\n",
       "  'vlan': '2992'},\n",
       " 'error': None}"
      ]
     },
     "execution_count": 17,
     "metadata": {},
     "output_type": "execute_result"
    }
   ],
   "source": [
    "client.set_endpoint(endpoint_position=\"first\", filter=\"SW17:7\", vlan=2992)\n",
    "client.set_endpoint(endpoint_position=\"second\", filter=\"SW17:7\", vlan=2992)"
   ]
  },
  {
   "cell_type": "markdown",
   "metadata": {},
   "source": [
    "## Invalid Same VLAN"
   ]
  },
  {
   "cell_type": "code",
   "execution_count": 18,
   "metadata": {},
   "outputs": [
    {
     "data": {
      "text/plain": [
       "{'status_code': 0,\n",
       " 'data': None,\n",
       " 'error': 'endpoints cannot use the same numeric VLAN (2997) twice.'}"
      ]
     },
     "execution_count": 18,
     "metadata": {},
     "output_type": "execute_result"
    }
   ],
   "source": [
    "client.set_endpoint(endpoint_position=\"first\", filter=\"SW17:7\", vlan=2997)\n",
    "client.set_endpoint(endpoint_position=\"second\", filter=\"SW17:7\", vlan=2997)\n",
    "client.set_l2vpn_payload(name=\"test-sdxlib-mia\", notifications=\"info@example.org\")\n",
    "client.get_l2vpn_payload()"
   ]
  },
  {
   "cell_type": "code",
   "execution_count": 19,
   "metadata": {},
   "outputs": [
    {
     "data": {
      "text/plain": [
       "{'status_code': 0,\n",
       " 'data': None,\n",
       " 'error': 'endpoints cannot use the same numeric VLAN (2997) twice.'}"
      ]
     },
     "execution_count": 19,
     "metadata": {},
     "output_type": "execute_result"
    }
   ],
   "source": [
    "client.get_l2vpn_payload()"
   ]
  },
  {
   "cell_type": "markdown",
   "metadata": {},
   "source": [
    "## Get L2VPNs"
   ]
  },
  {
   "cell_type": "code",
   "execution_count": 20,
   "metadata": {},
   "outputs": [
    {
     "data": {
      "text/plain": [
       "{'status_code': 200,\n",
       " 'data': {'count': 1,\n",
       "  'l2vpns': [{'Name': 'DDoS w p4',\n",
       "    'Notifications': 'absahin@fiu.edu',\n",
       "    'Ownership': '',\n",
       "    'QoS Metrics': 'None',\n",
       "    'Scheduling': 'None',\n",
       "    'Service ID': 'b650fefc-49a5-46e7-9206-70cab5e215e0',\n",
       "    'endpoints': [{'port_id': 'urn:sdx:port:amlight.net:MIA-MI1-SW17:7',\n",
       "      'vlan': '4015'},\n",
       "     {'port_id': 'urn:sdx:port:amlight.net:MIA-MI1-SW18:8', 'vlan': '2993'}]}],\n",
       "  'status_code': 200},\n",
       " 'error': None}"
      ]
     },
     "execution_count": 20,
     "metadata": {},
     "output_type": "execute_result"
    }
   ],
   "source": [
    "client.get_l2vpns()"
   ]
  },
  {
   "cell_type": "markdown",
   "metadata": {},
   "source": [
    "## Clears any previously stored endpoints"
   ]
  },
  {
   "cell_type": "code",
   "execution_count": 21,
   "metadata": {},
   "outputs": [
    {
     "data": {
      "text/plain": [
       "{'status_code': 200,\n",
       " 'data': {'name': None,\n",
       "  'notifications': None,\n",
       "  'first': None,\n",
       "  'second': None,\n",
       "  'service_id': None},\n",
       " 'error': None}"
      ]
     },
     "execution_count": 21,
     "metadata": {},
     "output_type": "execute_result"
    }
   ],
   "source": [
    "client.clear_selection()"
   ]
  },
  {
   "cell_type": "markdown",
   "metadata": {},
   "source": [
    "## SET FIRST ENDPOINT"
   ]
  },
  {
   "cell_type": "code",
   "execution_count": 22,
   "metadata": {},
   "outputs": [
    {
     "data": {
      "text/plain": [
       "{'status_code': 200,\n",
       " 'data': {'port_id': 'urn:sdx:port:amlight.net:MIA-MI1-SW17:7',\n",
       "  'vlan': '2995'},\n",
       " 'error': None}"
      ]
     },
     "execution_count": 22,
     "metadata": {},
     "output_type": "execute_result"
    }
   ],
   "source": [
    "client.set_endpoint(endpoint_position=\"first\", filter=\"SW17:7\", vlan=2995)"
   ]
  },
  {
   "cell_type": "markdown",
   "metadata": {},
   "source": [
    "## SET SECOND ENDPOINT"
   ]
  },
  {
   "cell_type": "code",
   "execution_count": 23,
   "metadata": {},
   "outputs": [
    {
     "data": {
      "text/plain": [
       "{'status_code': 200,\n",
       " 'data': {'port_id': 'urn:sdx:port:amlight.net:MIA-MI1-SW17:27',\n",
       "  'vlan': '2996'},\n",
       " 'error': None}"
      ]
     },
     "execution_count": 23,
     "metadata": {},
     "output_type": "execute_result"
    }
   ],
   "source": [
    "client.set_endpoint(endpoint_position=\"second\", filter=\"SW17:27\", vlan=2996)"
   ]
  },
  {
   "cell_type": "markdown",
   "metadata": {},
   "source": [
    "## Preview the L2VPN payload"
   ]
  },
  {
   "cell_type": "code",
   "execution_count": 24,
   "metadata": {},
   "outputs": [
    {
     "data": {
      "text/plain": [
       "{'status_code': 0,\n",
       " 'data': None,\n",
       " 'error': 'missing L2VPN name (set via set_l2vpn_payload)'}"
      ]
     },
     "execution_count": 24,
     "metadata": {},
     "output_type": "execute_result"
    }
   ],
   "source": [
    "client.get_l2vpn_payload()"
   ]
  },
  {
   "cell_type": "markdown",
   "metadata": {},
   "source": [
    "## SET the L2VPN payload"
   ]
  },
  {
   "cell_type": "code",
   "execution_count": 25,
   "metadata": {},
   "outputs": [
    {
     "data": {
      "text/plain": [
       "{'status_code': 200,\n",
       " 'data': {'name': 'test-sdxlib-mia',\n",
       "  'endpoints': [{'port_id': 'urn:sdx:port:amlight.net:MIA-MI1-SW17:7',\n",
       "    'vlan': '2995'},\n",
       "   {'port_id': 'urn:sdx:port:amlight.net:MIA-MI1-SW17:27', 'vlan': '2996'}],\n",
       "  'notifications': [{'email': 'info@example.org'}]},\n",
       " 'error': None}"
      ]
     },
     "execution_count": 25,
     "metadata": {},
     "output_type": "execute_result"
    }
   ],
   "source": [
    "client.set_l2vpn_payload(name=\"test-sdxlib-mia\", notifications=[{\"email\":\"info@example.org\"}])"
   ]
  },
  {
   "cell_type": "markdown",
   "metadata": {},
   "source": [
    "## Get current stored parameters"
   ]
  },
  {
   "cell_type": "code",
   "execution_count": 26,
   "metadata": {},
   "outputs": [
    {
     "data": {
      "text/plain": [
       "{'status_code': 200,\n",
       " 'data': {'name': 'test-sdxlib-mia',\n",
       "  'notifications': [{'email': 'info@example.org'}],\n",
       "  'first': {'port_id': 'urn:sdx:port:amlight.net:MIA-MI1-SW17:7',\n",
       "   'vlan': '2995'},\n",
       "  'second': {'port_id': 'urn:sdx:port:amlight.net:MIA-MI1-SW17:27',\n",
       "   'vlan': '2996'},\n",
       "  'service_id': None},\n",
       " 'error': None}"
      ]
     },
     "execution_count": 26,
     "metadata": {},
     "output_type": "execute_result"
    }
   ],
   "source": [
    "client.get_selection()"
   ]
  },
  {
   "cell_type": "markdown",
   "metadata": {},
   "source": [
    "## Create L2VPN"
   ]
  },
  {
   "cell_type": "code",
   "execution_count": 27,
   "metadata": {},
   "outputs": [
    {
     "data": {
      "text/plain": [
       "{'data': {'reason': 'Connection published',\n",
       "  'service_id': 'c827583e-d4b0-4066-8bb9-6b708fa02a09',\n",
       "  'status': 'under provisioning'},\n",
       " 'error': None,\n",
       " 'status_code': 201}"
      ]
     },
     "execution_count": 27,
     "metadata": {},
     "output_type": "execute_result"
    }
   ],
   "source": [
    "client.create_l2vpn_from_selection()"
   ]
  },
  {
   "cell_type": "markdown",
   "metadata": {},
   "source": [
    "## Get current stored parameters"
   ]
  },
  {
   "cell_type": "code",
   "execution_count": 28,
   "metadata": {},
   "outputs": [
    {
     "data": {
      "text/plain": [
       "{'status_code': 200,\n",
       " 'data': {'name': 'test-sdxlib-mia',\n",
       "  'notifications': [{'email': 'info@example.org'}],\n",
       "  'first': {'port_id': 'urn:sdx:port:amlight.net:MIA-MI1-SW17:7',\n",
       "   'vlan': '2995'},\n",
       "  'second': {'port_id': 'urn:sdx:port:amlight.net:MIA-MI1-SW17:27',\n",
       "   'vlan': '2996'},\n",
       "  'service_id': 'c827583e-d4b0-4066-8bb9-6b708fa02a09'},\n",
       " 'error': None}"
      ]
     },
     "execution_count": 28,
     "metadata": {},
     "output_type": "execute_result"
    }
   ],
   "source": [
    "client.get_selection()"
   ]
  },
  {
   "cell_type": "markdown",
   "metadata": {},
   "source": [
    "## Fetch the created L2VPN by service_id"
   ]
  },
  {
   "cell_type": "code",
   "execution_count": 29,
   "metadata": {},
   "outputs": [
    {
     "data": {
      "text/plain": [
       "{'data': {'c827583e-d4b0-4066-8bb9-6b708fa02a09': {'archived_date': 0,\n",
       "   'current_path': [{'port_id': 'urn:sdx:port:amlight.net:MIA-MI1-SW17:7',\n",
       "     'vlan': '2995'},\n",
       "    {'port_id': 'urn:sdx:port:amlight.net:MIA-MI1-SW17:27', 'vlan': '2996'}],\n",
       "   'description': None,\n",
       "   'endpoints': [{'port_id': 'urn:sdx:port:amlight.net:MIA-MI1-SW17:7',\n",
       "     'vlan': '2995'},\n",
       "    {'port_id': 'urn:sdx:port:amlight.net:MIA-MI1-SW17:27', 'vlan': '2996'}],\n",
       "   'name': 'test-sdxlib-mia',\n",
       "   'notifications': [{'email': 'info@example.org'}],\n",
       "   'oxp_response': {'amlight.net': [200,\n",
       "     {'circuit_id': '35315d0f36c540', 'deployed': True}]},\n",
       "   'service_id': 'c827583e-d4b0-4066-8bb9-6b708fa02a09',\n",
       "   'status': 'up'}},\n",
       " 'error': None,\n",
       " 'status_code': 200}"
      ]
     },
     "execution_count": 29,
     "metadata": {},
     "output_type": "execute_result"
    }
   ],
   "source": [
    "client.get_l2vpn()"
   ]
  },
  {
   "cell_type": "markdown",
   "metadata": {},
   "source": [
    "## Delete the created L2VPN by service_id"
   ]
  },
  {
   "cell_type": "code",
   "execution_count": 30,
   "metadata": {},
   "outputs": [
    {
     "data": {
      "text/plain": [
       "{'data': 'OK', 'error': None, 'status_code': 200}"
      ]
     },
     "execution_count": 30,
     "metadata": {},
     "output_type": "execute_result"
    }
   ],
   "source": [
    "client.delete_l2vpn()"
   ]
  },
  {
   "cell_type": "code",
   "execution_count": null,
   "metadata": {},
   "outputs": [],
   "source": []
  }
 ],
 "metadata": {
  "kernelspec": {
   "display_name": "Python 3 (ipykernel)",
   "language": "python",
   "name": "python3"
  },
  "language_info": {
   "codemirror_mode": {
    "name": "ipython",
    "version": 3
   },
   "file_extension": ".py",
   "mimetype": "text/x-python",
   "name": "python",
   "nbconvert_exporter": "python",
   "pygments_lexer": "ipython3",
   "version": "3.11.9"
  }
 },
 "nbformat": 4,
 "nbformat_minor": 4
}
