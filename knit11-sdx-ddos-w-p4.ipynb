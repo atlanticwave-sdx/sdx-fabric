{
 "cells": [
  {
   "cell_type": "markdown",
   "metadata": {},
   "source": [
    "<iframe src=\"figures/knit11.pdf\" width=\"600\" height=\"400\"></iframe>\n"
   ]
  },
  {
   "cell_type": "markdown",
   "metadata": {},
   "source": [
    "<iframe src=\"figures/knit11.pdf\" width=\"600\" height=\"400\"></iframe>\n",
    "\n",
    "\n"
   ]
  },
  {
   "cell_type": "markdown",
   "metadata": {},
   "source": [
    "# Real-Time DDoS Detection with Amlight Network Data and P4 Switches"
   ]
  },
  {
   "cell_type": "markdown",
   "metadata": {},
   "source": [
    "In this experiment, we demonstrate real-time DDoS detection using Amlight network data and P4 switches. The setup includes a facility port link to FIU, where we connect to a live data feed.\n",
    "\n",
    "The P4 switch maintains registers to track packet counts, as well as source and destination IP addresses. These register values are processed at the control plane to identify IP addresses with the highest packet counts and the most unique source IPs. Based on this ranking, the controller issues a P4Runtime write request to install a rule in the data plane for the selected IP address.\n",
    "\n",
    "The data plane then generates a digest containing header information for this entry. The controller receives the digest, aggregates statistics such as the average and standard deviation, and feeds the results into a machine learning model. The model produces predictions and classifies the traffic as either normal flow or attack flow.\n",
    "\n",
    "This tutorial is designed to help researchers learn how to leverage Amlight resources through the FABRIC testbed and to experiment with P4 code for advanced network research.\n",
    "\n",
    "The experimental setup is shown in the figure below:\n",
    "\n",
    "<img src=\"figures/knit11.png\" alt=\"Figure description\" width=\"800\"/>\n"
   ]
  },
  {
   "cell_type": "markdown",
   "metadata": {
    "id": "CPhslE-unk6g"
   },
   "source": [
    "## 1. Import the FABlib Library\n"
   ]
  },
  {
   "cell_type": "code",
   "execution_count": null,
   "metadata": {
    "id": "LmiM5Husnk6h"
   },
   "outputs": [],
   "source": [
    "from fabrictestbed_extensions.fablib.fablib import FablibManager as fablib_manager\n",
    "\n",
    "fablib = fablib_manager(project_id = \"1ecd9d6a-7701-40fa-b78e-b2293c9526ed\")\n",
    "\n",
    "fablib.show_config();"
   ]
  },
  {
   "cell_type": "markdown",
   "metadata": {
    "id": "c0oBE6mYnk6i"
   },
   "source": [
    "# 2. Create the Experiment Slice\n",
    "\n",
    "The following script sets up a node and facility port, each connected to two ports on a P4 tofino switch.\n"
   ]
  },
  {
   "cell_type": "markdown",
   "metadata": {},
   "source": [
    "### 2A. Identify the Facility port and Node Sites\n",
    "\n",
    "List the available sites with a `P4 Switch`. Select one site at random from the available options. In this experiment, we choose to allocate all resources at FIU."
   ]
  },
  {
   "cell_type": "code",
   "execution_count": null,
   "metadata": {},
   "outputs": [],
   "source": [
    "p4_column_name = \"p4-switch_available\"\n",
    "\n",
    "'''\n",
    "# Find a site which has a P4 Switch available\n",
    "[site2] = fablib.get_random_sites(count=1, filter_function=lambda x: x[p4_column_name] > 0)\n",
    "\n",
    "# Choose another random site other than P4 site to host the VMs\n",
    "site1 = fablib.get_random_site(avoid=[site2])\n",
    "'''\n",
    "\n",
    "[site2] = fablib.get_random_sites(count=1, filter_function=lambda x: x[p4_column_name] > 0)\n",
    "site1 = fablib.get_random_site(avoid=[site2])\n",
    "\n",
    "facility_port_site=site1\n",
    "\n",
    "print(f\"Sites chosen for hosting VMs: {site1} P4: {site2} facility port: {facility_port_site}\")"
   ]
  },
  {
   "cell_type": "code",
   "execution_count": null,
   "metadata": {},
   "outputs": [],
   "source": [
    "p4_column_name = \"p4-switch_available\"\n",
    "\n",
    "site1 = \"FIU\"\n",
    "site2 = \"FIU\"\n",
    "\n",
    "facility_port_site=\"FIU\"\n",
    "\n",
    "print(f\"Sites chosen for hosting VMs: {site1} P4: {site2} facility port: {facility_port_site}\")"
   ]
  },
  {
   "cell_type": "markdown",
   "metadata": {},
   "source": [
    "### 2B. Identify the VLAN for the Facility Port\n",
    "The script below displays the VLANs available at the FIU site."
   ]
  },
  {
   "cell_type": "code",
   "execution_count": null,
   "metadata": {},
   "outputs": [],
   "source": [
    "cell_output = 'pandas'\n",
    "output_list = fablib.list_facility_ports(filter_function=lambda x: x['site_name'] == facility_port_site, output=cell_output)"
   ]
  },
  {
   "cell_type": "code",
   "execution_count": null,
   "metadata": {},
   "outputs": [],
   "source": [
    "# Choose one of the available VLANs\n",
    "facility_port_vlan='4015'"
   ]
  },
  {
   "cell_type": "markdown",
   "metadata": {},
   "source": [
    "### 2C. Define the variable names "
   ]
  },
  {
   "cell_type": "code",
   "execution_count": null,
   "metadata": {
    "id": "imUjQXMXnk6i"
   },
   "outputs": [],
   "source": [
    "# define the variables\n",
    "facility_port_name = \"AmLight-EXP-Layer2-FIU\"\n",
    "slice_name = \"DDoS with p4 - 1\"\n",
    "node1_name = \"DestNode\"\n",
    "p4_name = \"P4\"\n",
    "network1_name = \"net1\"\n",
    "network2_name = \"net2\"\n",
    "model = \"NIC_Basic\""
   ]
  },
  {
   "cell_type": "markdown",
   "metadata": {},
   "source": [
    "### 2D. Create the Slice \n",
    "This step submits a request to create a slice for the experiment with the specified devices and parameters. The process may take 5–7 minutes to complete. Once finished, it will display the details of the slice.\n",
    "\n",
    "The output table also shows how to SSH into the P4 switch and nodes. From there, you can run the experiments directly from the terminal if desired."
   ]
  },
  {
   "cell_type": "code",
   "execution_count": null,
   "metadata": {},
   "outputs": [],
   "source": [
    "# Create Slice\n",
    "slice = fablib.new_slice(name=slice_name)\n",
    "\n",
    "# Create Node 1 and its links\n",
    "node1 = slice.add_node(name=node1_name, site=site1)\n",
    "iface1 = node1.add_component(model=model, name=\"nic1\").get_interfaces()[0]\n",
    "# iface1.set_mode(\"config\")\n",
    "\n",
    "# Optional: Uncomment if Node1 needs an IP address\n",
    "# iface1.set_ip_addr(IPv4Address(\"192.168.0.2\"))\n",
    "\n",
    "# Create P4 switch and its links\n",
    "p4 = slice.add_switch(name=p4_name, site=site2)\n",
    "iface2 = p4.get_interfaces()[0]  # Connects to net1\n",
    "iface3 = p4.get_interfaces()[1]  # Connects to net2\n",
    "\n",
    "\n",
    "# Set VLAN tag on P4 switch's interface (iface3) to match facility port\n",
    "# iface3.set_vlan(facility_port_vlan)  # Sets VLAN to '4018' (string)\n",
    "\n",
    "# Add Facility Port\n",
    "facility_port = slice.add_facility_port(name=facility_port_name, site=facility_port_site, vlan=facility_port_vlan)\n",
    "facility_port_interface = facility_port.get_interfaces()[0]\n",
    "\n",
    "\n",
    "# Create Networks\n",
    "net1 = slice.add_l2network(name=network1_name, interfaces=[])\n",
    "net1.add_interface(iface1)\n",
    "net1.add_interface(iface2)\n",
    "net2 = slice.add_l2network(name=network2_name, interfaces=[])  # Layer 2 network for facility port\n",
    "net2.add_interface(iface3)\n",
    "net2.add_interface(facility_port_interface)\n",
    "\n",
    "# Submit Slice Request\n",
    "try:\n",
    "    slice.submit()\n",
    "except Exception as e:\n",
    "    print(f\"Slice submission failed: {e}\")"
   ]
  },
  {
   "cell_type": "markdown",
   "metadata": {},
   "source": [
    "### 2E. Configure the internet connection"
   ]
  },
  {
   "cell_type": "code",
   "execution_count": null,
   "metadata": {},
   "outputs": [],
   "source": [
    "from ipaddress import ip_address, IPv4Address, IPv6Address, IPv4Network, IPv6Network\n",
    "\n",
    "# Configure the interface(s) of the VM(s) with designated subnet\n",
    "subnet = IPv4Network(\"192.168.1.0/24\")\n",
    "available_ips = list(subnet)[2:]"
   ]
  },
  {
   "cell_type": "code",
   "execution_count": null,
   "metadata": {},
   "outputs": [],
   "source": [
    "slice = fablib.get_slice(slice_name)\n",
    "node1 = slice.get_node(name=f\"DestNode\")        \n",
    "node1_iface = node1.get_interface(network_name=f'net1') \n",
    "node1_addr = available_ips.pop(99)\n",
    "print(f\"node1_addr: {node1_addr}\")\n",
    "node1_iface.ip_addr_add(addr=node1_addr, subnet= subnet)"
   ]
  },
  {
   "cell_type": "code",
   "execution_count": null,
   "metadata": {},
   "outputs": [],
   "source": [
    "stdout, stderr = node1.execute(f'ping -c 5 192.168.1.10')"
   ]
  },
  {
   "cell_type": "markdown",
   "metadata": {},
   "source": [
    "The above `ping` should not work because the L2VPN has not been established and the P4 switch is not yet configured. In the next step, we will set up the Amlight SDX and the FABRIC connection."
   ]
  },
  {
   "cell_type": "markdown",
   "metadata": {},
   "source": [
    "## 3. Setup of Amlight AtlanticWave-SDX Connection and L2VPN Creation"
   ]
  },
  {
   "cell_type": "markdown",
   "metadata": {},
   "source": [
    "## 3A. Check if sdxclient is installed, uninstall it if needed"
   ]
  },
  {
   "cell_type": "code",
   "execution_count": null,
   "metadata": {},
   "outputs": [],
   "source": [
    "!pip show sdxclient\n",
    "#!pip uninstall -y sdxlib  # Uninstall if installed"
   ]
  },
  {
   "cell_type": "code",
   "execution_count": null,
   "metadata": {},
   "outputs": [],
   "source": [
    "!pip install sdxclient"
   ]
  },
  {
   "cell_type": "markdown",
   "metadata": {},
   "source": [
    "## 3B. Instantiate the SDX client"
   ]
  },
  {
   "cell_type": "code",
   "execution_count": null,
   "metadata": {},
   "outputs": [],
   "source": [
    "from IPython.display import HTML\n",
    "from sdxclient.client import SDXClient\n",
    "client = SDXClient()"
   ]
  },
  {
   "cell_type": "markdown",
   "metadata": {},
   "source": [
    "### 3C. Check allocated l2VPNs"
   ]
  },
  {
   "cell_type": "code",
   "execution_count": null,
   "metadata": {},
   "outputs": [],
   "source": [
    "client.get_l2vpns()"
   ]
  },
  {
   "cell_type": "markdown",
   "metadata": {},
   "source": [
    "### 3D. Check available ports"
   ]
  },
  {
   "cell_type": "code",
   "execution_count": null,
   "metadata": {},
   "outputs": [],
   "source": [
    "HTML(client.get_available_ports(format=\"html\", limit=20)[\"data\"])"
   ]
  },
  {
   "cell_type": "markdown",
   "metadata": {},
   "source": [
    "### 3E. Filter Entities"
   ]
  },
  {
   "cell_type": "code",
   "execution_count": null,
   "metadata": {},
   "outputs": [],
   "source": [
    "HTML(client.get_available_ports(format=\"html\", fields=\"Domain,Device,Port,Status,Port ID,Entities\", limit=20)[\"data\"])"
   ]
  },
  {
   "cell_type": "markdown",
   "metadata": {},
   "source": [
    "### 3F. Get vlans in use"
   ]
  },
  {
   "cell_type": "code",
   "execution_count": null,
   "metadata": {},
   "outputs": [],
   "source": [
    "HTML(client.get_available_ports(format=\"html\", fields=\"Domain,Device,Port,Status,Port ID,Entities,VLANs in Use\", limit=20)[\"data\"])"
   ]
  },
  {
   "cell_type": "markdown",
   "metadata": {},
   "source": [
    "### 3G. Check VLAN availability\n",
    "From the table above, the port with the entity name `FABRIC FIU – Miami` corresponds to the Fabric testbed side. For live telemetry, select the port with the entity name `Telemetry Feed`. The VLAN for the Fabric node is already chosen when the slice is created. However, you should verify which VLANs are available on the live feed port."
   ]
  },
  {
   "cell_type": "code",
   "execution_count": null,
   "metadata": {},
   "outputs": [],
   "source": [
    "HTML(client.get_available_ports(format=\"html\", fields=\"Domain,Device,Port,Status,Port ID,Entities,VLANs Available\", limit=20)[\"data\"])"
   ]
  },
  {
   "cell_type": "markdown",
   "metadata": {},
   "source": [
    "## 3H. Set L2VPN parameters"
   ]
  },
  {
   "cell_type": "markdown",
   "metadata": {},
   "source": [
    "### SET ENDPOINTS"
   ]
  },
  {
   "cell_type": "code",
   "execution_count": null,
   "metadata": {},
   "outputs": [],
   "source": [
    "# Assign the available ports and VLANs to the fabric port and the FIU server (facility port).\n",
    "client.set_endpoint(endpoint_position=\"first\", filter=\"SW17:7\", vlan=4015)\n",
    "client.set_endpoint(endpoint_position=\"second\", filter=\"SW17:27\", vlan=3000)"
   ]
  },
  {
   "cell_type": "markdown",
   "metadata": {},
   "source": [
    "### SET the L2VPN payload"
   ]
  },
  {
   "cell_type": "code",
   "execution_count": null,
   "metadata": {},
   "outputs": [],
   "source": [
    "client.set_l2vpn_payload(name=\"Live Telemetry\", notifications=[{\"email\":\"lmarinve@fiu.edu\"}])"
   ]
  },
  {
   "cell_type": "markdown",
   "metadata": {},
   "source": [
    "## 3I. Create an L2VPN for live feed"
   ]
  },
  {
   "cell_type": "code",
   "execution_count": null,
   "metadata": {},
   "outputs": [],
   "source": [
    "client.create_l2vpn_from_selection()"
   ]
  },
  {
   "cell_type": "markdown",
   "metadata": {},
   "source": [
    "### 3J. Fetch the created L2VPN by service_id"
   ]
  },
  {
   "cell_type": "code",
   "execution_count": null,
   "metadata": {},
   "outputs": [],
   "source": [
    "client.get_l2vpn()"
   ]
  },
  {
   "cell_type": "markdown",
   "metadata": {},
   "source": [
    "## 3K. Check internet connection"
   ]
  },
  {
   "cell_type": "code",
   "execution_count": null,
   "metadata": {},
   "outputs": [],
   "source": [
    "stdout, stderr = node1.execute(f'ping -c 5 192.168.1.10')"
   ]
  },
  {
   "cell_type": "markdown",
   "metadata": {},
   "source": [
    "## 4. Compile the P4 Script, Load It onto the Switch, and Configure the Switch\n",
    "\n",
    "**This section and the next can be completed by SSH-ing into the P4 switch and running the experiments from the command line there.** We recommend this approach.\n",
    "However, it can also be completed using the provided Jupyter notebooks.\n",
    "\n",
    "If you chose to use the terminal, Follow these steps:\n",
    "\n",
    "- Run 4A and 4B in one terminal.\n",
    "\n",
    "- Open another terminal and run 4C there.\n",
    "\n",
    "- For the experiments, use the second terminal or open a new one.\n",
    "\n",
    "- Instead of running 5B–5E individually, use the provided script `cNdAmlight_menu.py` that combines all steps of the experiment.\n",
    "\n",
    "\n",
    "```python\n",
    "python3 DDoS_Detection_wP4/menu/cNdAmlight_menu.py\n",
    "```"
   ]
  },
  {
   "cell_type": "code",
   "execution_count": null,
   "metadata": {},
   "outputs": [],
   "source": [
    "# Upload the P4 Code to the switch\n",
    "\n",
    "import os\n",
    "\n",
    "print(os.getcwd())\n",
    "\n",
    "slice = fablib.get_slice(slice_name)\n",
    "node1 = slice.get_node(\"DestNode\")\n",
    "switch = slice.get_node(\"P4\")\n",
    "# switch.upload_directory(\"DDoS_Detection_wP4\", \".\")\n"
   ]
  },
  {
   "cell_type": "markdown",
   "metadata": {},
   "source": [
    "### 4A. Compile the basic P4 program\n",
    "\n",
    "#### Configure the environment variables\n",
    "\n",
    "SDE environment can be setup using the command:\n",
    "\n",
    "```\n",
    "sde-env-9.13.3\n",
    "```\n",
    "\n",
    "Example output is shown below:\n",
    "```\n",
    "fabric@P4:~$ sde-env-9.13.3\n",
    "\n",
    "Intel Tofino SDE 9.13.3 on platform \"accton_wedge100bf_32x\"\n",
    "Load/unload kernel modules: $ sudo $(type -p bf_{kdrv,kpkt,knet}_mod_{load,unload})\n",
    "\n",
    "Compile: $ p4_build.sh <p4name>.p4\n",
    "Run:     $ run_switchd.sh -p <p4name>\n",
    "\n",
    "Build artifacts and logs are stored in /home/fabric/.bf-sde/9.13.3\n",
    "\n",
    "Use \"exit\" or CTRL-D to exit this shell.\n",
    "```\n",
    "#### Compile the code\n",
    "\n",
    "In this example we will not modify the P4 code. Instead, we will just compile it and run it on the switch. \n",
    "\n",
    "The script `p4_build.sh` is provided by Intel’s support portal. It invokes the compiler to generate the output files. It automatically detects the P4 version (i.e., P416), and generates\n",
    "the output files under `~/.bf-sde/9.13.3/build/<program_name>`, where `<program_name>` is the file `cNdAmlight.p4`. It also generates the log files under `~/.bf-sde/9.13.3/logs/<program_name>` and other files (e.g., graphs).\n",
    "\n",
    "Use the command below to compile the code:\n",
    "\n",
    "```\n",
    "p4_build.sh ~/DDoS_Detection_wP4/p4src/cNdAmlight.p4\n",
    "```\n",
    "\n",
    "After executing the command, if there are no error messages displayed in the terminal, then the P4 program was compiled successfully."
   ]
  },
  {
   "cell_type": "code",
   "execution_count": null,
   "metadata": {},
   "outputs": [],
   "source": [
    "# Compile the p4 program \n",
    "\n",
    "stdout, stderr = switch.execute(command=[\n",
    "\n",
    "    # Step 1: Enter the Intel Tofino SDE environment\n",
    "    # This command activates the environment needed to run P4-related tools.\n",
    "    (\"sde-env-9.13.3\", r\"\\[nix\\-shell\\(SDE\\-9.13.3\\):.*\\$ \", 10),\n",
    "\n",
    "    # Step 2: Compile the P4 program using p4_build.sh\n",
    "    # This builds the P4 program specified in the path (basic.p4).\n",
    "    # The build process may take some time, so a timeout of 20 seconds is used.\n",
    "    (\"p4_build.sh ~/DDoS_Detection_wP4/p4src/cNdAmlight.p4\", r\"\\[nix\\-shell\\(SDE-9.13.3\\):.*\\$ \", 20),\n",
    "\n",
    "    # Step 3: Exit the SDE environment cleanly\n",
    "    # Ensures that the environment is properly terminated after execution.\n",
    "    (\"exit\", r\"\\[nix\\-shell\\(SDE-9.13.3\\):.*\\$ \", 10)\n",
    "])\n",
    "\n",
    "# stdout: Captures the standard output of the executed commands.\n",
    "# stderr: Captures any error messages encountered during execution.\n"
   ]
  },
  {
   "cell_type": "markdown",
   "metadata": {},
   "source": [
    "### Verify the compilation output files\n",
    "Verify the output files for the program basic.p4 are generated in the `~/.bf-sde/9.13.3/build/<program_name>` directory by issuing the following command.\n",
    "\n",
    "```\n",
    "ls ~/.bf-sde/9.13.3/build/cNdAmlight.p4/\n",
    "```\n",
    "\n",
    "The binary file that corresponds to the compiled data plane is located under `ls ~/.bf-sde/9.13.3/build/<program_name>/tofino/pipe`. Use the command below to display the contents of this directory.\n",
    "\n",
    "```\n",
    "ls ~/.bf-sde/9.13.3/build/cNdAmlight.p4/tofino/pipe/\n",
    "```"
   ]
  },
  {
   "cell_type": "code",
   "execution_count": null,
   "metadata": {},
   "outputs": [],
   "source": [
    "stdout, stderr = switch.execute(\"ls ~/.bf-sde/9.13.3/build/cNdAmlight/\")"
   ]
  },
  {
   "cell_type": "code",
   "execution_count": null,
   "metadata": {},
   "outputs": [],
   "source": [
    "stdout, stderr = switch.execute(\"ls ~/.bf-sde/9.13.3/build/cNdAmlight/tofino/pipe/\")"
   ]
  },
  {
   "cell_type": "markdown",
   "metadata": {},
   "source": [
    "### 4B. Start the switch daemon and add the ports \n",
    "\n",
    "Now that we have compiled our P4 program and generated the output files. We can start the switch daemon with the compiled output using the command below.\n",
    "\n",
    "\n",
    "Load the  kernel module, and start the switch daemon using the following commands:\n",
    "```\n",
    "sde-env-9.13.3\n",
    "\n",
    "sudo $SDE_INSTALL/bin/./bf_kdrv_mod_load $SDE_INSTALL\n",
    "\n",
    "run_switchd.sh -p cNdAmlight\n",
    "```\n",
    "\n",
    "Once the daemon is running, you can issue commands in the bfshell.  \n",
    "\n",
    "1. Issue the following command in the switch CLI to manage the ports of the switch.\n",
    "\n",
    "```\n",
    "ucli\n",
    "```\n",
    "\n",
    "NOTE: The ucli is the bfshell instance used to manage the switch ports. With the ucli, you can enable or disable ports, set the port speed (e.g., 100 Gbps, 40 Gbps, and 10 Gbps), and\n",
    "select the FEC type. Additionally, the user can monitor the status of the ports, the number of sent and received frames, and other variables.\n",
    "\n",
    "2. Now we will add the ports for the switch. Recall from the topology that Server1 is connected to port 1 on the switch, and Server2 is connected to port 2 on the switch. Issue the\n",
    "commands below to add ports 1 and 2 in the Tofino switch.\n",
    "\n",
    "```\n",
    "pm port-add 1/- 100G NONE\n",
    "pm port-add 2/- 100G NONE\n",
    "```\n",
    "\n",
    "3. Enable the ports by issuing the following commands.\n",
    "```\n",
    "pm port-enb 1/-\n",
    "pm port-enb 2/-\n",
    "```\n",
    "\n",
    "4. Verify that the ports are up by issuing the following command.\n",
    "```\n",
    "pm show\n",
    "```\n",
    "\n",
    "\n",
    "**Expected output:**\n",
    "```\n",
    "bf-shell> ucli\n",
    "bf-sde> pm port-add 1/- 100G NONE\n",
    "bf-sde> pm port-add 2/- 100G NONE\n",
    "bf-sde> pm show\n",
    "-----+----+---+----+-------+----+--+--+---+---+---+--------+----------------+----------------+-\n",
    "PORT |MAC |D_P|P/PT|SPEED  |FEC |AN|KR|RDY|ADM|OPR|LPBK    |FRAMES RX       |FRAMES TX       |E\n",
    "-----+----+---+----+-------+----+--+--+---+---+---+--------+----------------+----------------+-\n",
    "1/0  |23/0|132|3/ 4|100G   |NONE|Au|Au|YES|ENB|DWN|  NONE  |               0|               0|\n",
    "2/0  |22/0|140|3/12|100G   |NONE|Au|Au|YES|ENB|DWN|  NONE  |               0|               0|\n",
    "bf-sde> pm port-enb 1/-\n",
    "bf-sde> pm port-enb 2/-\n",
    "bf-sde> pm show\n",
    "-----+----+---+----+-------+----+--+--+---+---+---+--------+----------------+----------------+-\n",
    "PORT |MAC |D_P|P/PT|SPEED  |FEC |AN|KR|RDY|ADM|OPR|LPBK    |FRAMES RX       |FRAMES TX       |E\n",
    "-----+----+---+----+-------+----+--+--+---+---+---+--------+----------------+----------------+-\n",
    "1/0  |23/0|132|3/ 4|100G   |NONE|Au|Au|YES|ENB|UP |  NONE  |              29|              14|\n",
    "2/0  |22/0|140|3/12|100G   |NONE|Au|Au|YES|ENB|UP |  NONE  |              29|              14|\n",
    "```\n",
    "\n",
    "The ouput above shows that ports 1 and 2 are up. The speed for the ports is 100G. The columns `FRAMES TX` indicate how many frames are received and `FRAMES RX` transmitted in each port respectively.\n",
    "\n",
    "**NOTE**: These commands can also be executed manually by accessing the P4 switch via SSH."
   ]
  },
  {
   "cell_type": "code",
   "execution_count": null,
   "metadata": {},
   "outputs": [],
   "source": [
    "switch = slice.get_node(\"P4\")\n",
    "thread = switch.execute_thread(command=[\n",
    "    # Enter SDE environment\n",
    "    (\"sde-env-9.13.3\", r\"\\[nix\\-shell\\(SDE\\-9.13.3\\):.*\\$ \", 10),\n",
    "\n",
    "    # Load Kernel Modules\n",
    "    (\"sudo $SDE_INSTALL/bin/./bf_kdrv_mod_load $SDE_INSTALL\", r\"\\[nix\\-shell\\(SDE-9.13.3\\):.*\\$ \", 20),\n",
    "\n",
    "    # Start run_switchd.sh interactively (DO NOT run in background)\n",
    "    (\"run_switchd.sh -p cNdAmlight\", r\"bfshell>\", 30),  # Wait for switchd prompt to appear\n",
    "\n",
    "    # Enter UCLI after switchd starts\n",
    "    (\"ucli\", r\"bf-sde>\", 10),\n",
    "\n",
    "    # Port configuration inside UCLI\n",
    "    (\"pm port-add 1/- 100G NONE\", r\"bf-sde>\", 10),\n",
    "    (\"pm port-add 2/- 100G NONE\", r\"bf-sde>\", 10),\n",
    "    (\"pm port-enb 1/-\", r\"bf-sde>\", 10),\n",
    "    (\"pm port-enb 2/-\", r\"bf-sde>\", 10),\n",
    "    (\"pm show\", r\"bf-sde>\", 10),\n",
    "    # Keep the session open to prevent exit\n",
    "    (\"sleep infinity\", r\"bf-sde>\", 3000) \n",
    "], output_file=\"run_switchd.log\")"
   ]
  },
  {
   "cell_type": "markdown",
   "metadata": {},
   "source": [
    "### 4C. Populating the switch’s forwarding table\n",
    "\n",
    "**1. Update the port numbers in the script excerpt below to match the D_P column from the pm show output above.**\n",
    "\n",
    "```python\n",
    "forwarding.add_with_send_using_port(ingress_port=132, egress_port=140)\n",
    "forwarding.add_with_send_using_port(ingress_port=140, egress_port=132)\n",
    "```\n",
    "\n",
    "\n",
    "**NOTE**: These steps can also be executed manually by accessing the P4 switch via SSH."
   ]
  },
  {
   "cell_type": "code",
   "execution_count": null,
   "metadata": {},
   "outputs": [],
   "source": [
    "file_path = \"~/DDoS_Detection_wP4/bfrt_python/cNdAmlight_setup.py\"\n",
    "INGRESS = switch.get_interfaces()[0].get_device_name()\n",
    "EGRESS = switch.get_interfaces()[1].get_device_name()\n",
    "\n",
    "print(INGRESS)\n",
    "print(EGRESS)\n",
    "\n",
    "switch.execute(\n",
    "    f\"sed -i 's/ingress_logical *= *[0-9]\\\\+/ingress_logical = {INGRESS}/' {file_path}\"\n",
    ")\n",
    "switch.execute(\n",
    "    f\"sed -i 's/egress_logical *= *[0-9]\\\\+/egress_logical = {EGRESS}/' {file_path}\"\n",
    ")\n"
   ]
  },
  {
   "cell_type": "markdown",
   "metadata": {},
   "source": [
    "**2. Populate the table entries to the switch by typing the following command in the embedded terminal.**\n",
    "\n",
    "```\n",
    "sde-env-9.13.3\n",
    "\n",
    "run_bfshell.sh --no-status-srv -b ~/DDoS_Detection_wP4/bfrt_python/cNdAmlight.py\n",
    "```\n",
    "\n",
    "The forwarding table contains the information that the P4 program will use to forward packets to the right destination. \n",
    "\n",
    "**NOTE**: Please wait to run this step until you see ports as shown below to ensure the port have been enabled by the previous step. If you see an error, please re-run this step.\n",
    "\n",
    "**NOTE**: These steps can also be executed manually by accessing the P4 switch via SSH.\n",
    "\n",
    "```\n",
    "-----+----+---+----+-------+----+--+--+---+---+---+--------+----------------+----------------+-\n",
    "PORT |MAC |D_P|P/PT|SPEED  |FEC |AN|KR|RDY|ADM|OPR|LPBK    |FRAMES RX       |FRAMES TX       |E\n",
    "-----+----+---+----+-------+----+--+--+---+---+---+--------+----------------+----------------+-\n",
    "1/0  |23/0|132|2/ 4|100G   |NONE|Au|Au|YES|ENB|UP |  NONE  |               7|               0| \n",
    "2/0  |22/0|140|2/12|100G   |NONE|Au|Au|YES|ENB|UP |  NONE  |               7|               0|\n",
    "```"
   ]
  },
  {
   "cell_type": "code",
   "execution_count": null,
   "metadata": {},
   "outputs": [],
   "source": [
    "# Define the port for the forwarding table\n",
    "stdout, stderr = switch.execute(command=[\n",
    "    \n",
    "    # Step 1: Enter the Intel Tofino SDE environment\n",
    "    # This command activates the environment needed to run P4-related tools.\n",
    "    (\"sde-env-9.13.3\", r\"\\[nix\\-shell\\(SDE\\-9.13.3\\):.*\\$ \", 10),\n",
    "\n",
    "    # Step 2: Run the BFShell script to set up the P4 runtime environment\n",
    "    # This script initializes the environment and configures the necessary settings.\n",
    "    # --no-status-srv: Disables the status server.\n",
    "    # -b <script>: Runs the Python setup script inside bfshell.\n",
    "    (\"run_bfshell.sh --no-status-srv -b ~/DDoS_Detection_wP4/bfrt_python/cNdAmlight_setup.py\", \n",
    "     r\"\\[nix\\-shell\\(SDE\\-9.13.3\\):.*\\$ \", 30),\n",
    "\n",
    "    # Step 3: Exit the SDE environment cleanly\n",
    "    # Ensures that the environment is properly terminated after execution.\n",
    "    (\"exit\", r\"\\[nix\\-shell\\(SDE\\-9.13.3\\):.*\\$ \", 10)\n",
    "])\n",
    "\n",
    "# stdout will contain the standard output from the executed commands.\n",
    "# stderr will contain any error messages encountered during execution.\n"
   ]
  },
  {
   "cell_type": "markdown",
   "metadata": {
    "id": "A8fEpDTqnk6k"
   },
   "source": [
    "### 4D. Verify Reachability through Ping Test\n",
    "\n",
    "Initiate a ping between the VMs.  \n",
    "\n",
    "**NOTE:** The ping will function as long as the switch daemon is actively running on the Tofino switch and is correctly configured.  \n",
    "\n",
    "In this example, the switch daemon automatically terminates after **1 hour**, which may cause the ping to stop working beyond this duration. This is expected behavior. To resume pinging, the user must restart the switch daemon."
   ]
  },
  {
   "cell_type": "code",
   "execution_count": null,
   "metadata": {},
   "outputs": [],
   "source": [
    "stdout, stderr = node1.execute(f'ping -c 5 192.168.1.10')"
   ]
  },
  {
   "cell_type": "markdown",
   "metadata": {},
   "source": [
    "## 5. Run DDoS Experiment"
   ]
  },
  {
   "cell_type": "markdown",
   "metadata": {},
   "source": [
    "### 5A. Installing required libraries"
   ]
  },
  {
   "cell_type": "code",
   "execution_count": null,
   "metadata": {},
   "outputs": [],
   "source": [
    "stdout, stderr = switch.execute(command=[\n",
    "    (\"sde-env-9.13.3\", r\"\\[nix\\-shell\\(SDE\\-9\\.13\\.3\\):.*\\$ \", 15),\n",
    "    (\"unset PYTHONPATH LD_LIBRARY_PATH\", r\"\\[nix\\-shell\\(SDE\\-9\\.13\\.3\\):.*\\$ \", 10),\n",
    "\n",
    "    # Nix libs only (avoid /usr/lib to prevent GLIBC mismatch)\n",
    "    (\"GCC_LIB=$(ls -d /nix/store/*-gcc-*-lib/lib 2>/dev/null | head -n1 || true)\", r\"\\[nix\\-shell\\(SDE\\-9\\.13\\.3\\):.*\\$ \", 10),\n",
    "    (\"ZLIB_SO=$(find /nix/store -maxdepth 3 -type f -name 'libz.so.1' 2>/dev/null | head -n1 || true)\", r\"\\[nix\\-shell\\(SDE\\-9\\.13\\.3\\):.*\\$ \", 10),\n",
    "    (\"[ -n \\\"$ZLIB_SO\\\" ] && ZLIB_LIB=$(dirname \\\"$ZLIB_SO\\\") || ZLIB_LIB=''\", r\"\\[nix\\-shell\\(SDE\\-9\\.13\\.3\\):.*\\$ \", 10),\n",
    "    (\"[ -z \\\"$ZLIB_LIB\\\" ] && [ -e /lib/x86_64-linux-gnu/libz.so.1 ] && mkdir -p ~/shimlibs && cp -f /lib/x86_64-linux-gnu/libz.so.1 ~/shimlibs/ && ZLIB_LIB=~/shimlibs || true\", r\"\\[nix\\-shell\\(SDE\\-9\\.13\\.3\\):.*\\$ \", 15),\n",
    "    (\"[ -n \\\"$GCC_LIB\\\" ] && export LD_LIBRARY_PATH=\\\"$GCC_LIB\\\" || true\", r\"\\[nix\\-shell\\(SDE\\-9\\.13\\.3\\):.*\\$ \", 10),\n",
    "    (\"[ -n \\\"$ZLIB_LIB\\\" ] && export LD_LIBRARY_PATH=\\\"$ZLIB_LIB:$LD_LIBRARY_PATH\\\" || true\", r\"\\[nix\\-shell\\(SDE\\-9\\.13\\.3\\):.*\\$ \", 10),\n",
    "\n",
    "    (\"VENV=~/sde_venv\", r\"\\[nix\\-shell\\(SDE\\-9\\.13\\.3\\):.*\\$ \", 10),\n",
    "    (\"rm -rf \\\"$VENV\\\"\", r\"\\[nix\\-shell\\(SDE\\-9\\.13\\.3\\):.*\\$ \", 15),\n",
    "    (\"python3 -m venv \\\"$VENV\\\"\", r\"\\[nix\\-shell\\(SDE\\-9\\.13\\.3\\):.*\\$ \", 15),\n",
    "    (\"source \\\"$VENV/bin/activate\\\"\", r\"\\(sde_venv\\).*\\$ \", 10),\n",
    "\n",
    "    # Quiet pip: no version check, no progress bar, -q\n",
    "    (\"export PIP_DISABLE_PIP_VERSION_CHECK=1 PIP_PROGRESS_BAR=off\", r\"\\(sde_venv\\).*\\$ \", 10),\n",
    "    (\"pip install -q --no-cache-dir --upgrade pip\", r\"\\(sde_venv\\).*\\$ \", 20),\n",
    "    (\"pip install -q --no-cache-dir numpy pandas grpcio joblib scikit-learn\", r\"\\(sde_venv\\).*\\$ \", 100),\n",
    "\n",
    "    # Ensures that the environment is properly terminated after execution.\n",
    "    (\"exit\", r\"\\[nix\\-shell\\(SDE\\-9.13.3\\):.*\\$ \", 10)\n",
    "])\n"
   ]
  },
  {
   "cell_type": "markdown",
   "metadata": {},
   "source": [
    "### 5B. Clear the registers"
   ]
  },
  {
   "cell_type": "code",
   "execution_count": null,
   "metadata": {},
   "outputs": [],
   "source": [
    "# Run the command below  \n",
    "# To clear the registers and start again over \n",
    "\n",
    "stdout, stderr = switch.execute(command=[\n",
    "    # 1) Enter SDE and activate venv\n",
    "    (\"sde-env-9.13.3\", r\"\\[nix\\-shell\\(SDE\\-9\\.13\\.3\\):.*\\$ \", 20),\n",
    "    (\"source ~/sde_venv/bin/activate\", r\"\\(sde_venv\\).*\\$ \", 10),\n",
    "\n",
    "    # 2) Clean Python path; set only the two Nix lib folders if they exist (no typos, no /usr/lib)\n",
    "    (\"unset PYTHONPATH LD_LIBRARY_PATH; \"\n",
    "     \"for p in /nix/store/*-gcc-*-lib/lib /nix/store/*-zlib-*/lib; do \"\n",
    "     \"  [ -d \\\"$p\\\" ] && LD_LIBRARY_PATH=\\\"$p:${LD_LIBRARY_PATH}\\\"; \"\n",
    "     \"done; export LD_LIBRARY_PATH\", r\"\\(sde_venv\\).*\\$ \", 10),\n",
    "\n",
    "    # 3) Run your script, quieter logging (without changing the file)\n",
    "    (\"cd /home/fabric && PYTHONWARNINGS=ignore \"\n",
    "     \"python -c \\\"import logging,runpy; logging.getLogger().setLevel(logging.ERROR); \"\n",
    "     \"runpy.run_path('DDoS_Detection_wP4/menu/clear_registers.py', run_name='__main__')\\\"\",\n",
    "     r\"\\(sde_venv\\).*\\$ \", 20),\n",
    "\n",
    "    # Ensures that the environment is properly terminated after execution.\n",
    "    (\"exit\", r\"\\[nix\\-shell\\(SDE\\-9.13.3\\):.*\\$ \", 10)\n",
    "])"
   ]
  },
  {
   "cell_type": "markdown",
   "metadata": {},
   "source": [
    "### 5C. Inspect the registers"
   ]
  },
  {
   "cell_type": "code",
   "execution_count": null,
   "metadata": {},
   "outputs": [],
   "source": [
    "# Run the command below  \n",
    "# To inspect the registers  \n",
    "# If there are non-zero entries, the output will show the top and bottom 15 IP addresses by packet count  \n",
    "\n",
    "stdout, stderr = switch.execute(command=[\n",
    "    # 1) Enter SDE and activate venv\n",
    "    (\"sde-env-9.13.3\", r\"\\[nix\\-shell\\(SDE\\-9\\.13\\.3\\):.*\\$ \", 20),\n",
    "    (\"source ~/sde_venv/bin/activate\", r\"\\(sde_venv\\).*\\$ \", 10),\n",
    "\n",
    "    # 2) Clean Python path; set only the two Nix lib folders if they exist (no typos, no /usr/lib)\n",
    "    (\"unset PYTHONPATH LD_LIBRARY_PATH; \"\n",
    "     \"for p in /nix/store/*-gcc-*-lib/lib /nix/store/*-zlib-*/lib; do \"\n",
    "     \"  [ -d \\\"$p\\\" ] && LD_LIBRARY_PATH=\\\"$p:${LD_LIBRARY_PATH}\\\"; \"\n",
    "     \"done; export LD_LIBRARY_PATH\", r\"\\(sde_venv\\).*\\$ \", 10),\n",
    "\n",
    "    # 3) Run your script, quieter logging (without changing the file)\n",
    "    (\"cd /home/fabric && PYTHONWARNINGS=ignore \"\n",
    "     \"python -c \\\"import logging,runpy; logging.getLogger().setLevel(logging.ERROR); \"\n",
    "     \"runpy.run_path('DDoS_Detection_wP4/menu/inspect_registers.py', run_name='__main__')\\\"\",\n",
    "     r\"\\(sde_venv\\).*\\$ \", 40),\n",
    "\n",
    "    # Ensures that the environment is properly terminated after execution.\n",
    "    (\"exit\", r\"\\[nix\\-shell\\(SDE\\-9.13.3\\):.*\\$ \", 10)\n",
    "])"
   ]
  },
  {
   "cell_type": "markdown",
   "metadata": {},
   "source": [
    "### 5D. Add digest entries and request digest messages"
   ]
  },
  {
   "cell_type": "code",
   "execution_count": null,
   "metadata": {},
   "outputs": [],
   "source": [
    "# Run the command below  \n",
    "# To add digest entries and create digest messages for those entries\n",
    "\n",
    "stdout, stderr = switch.execute(command=[\n",
    "    # 1) Enter SDE and activate venv\n",
    "    (\"sde-env-9.13.3\", r\"\\[nix\\-shell\\(SDE\\-9\\.13\\.3\\):.*\\$ \", 20),\n",
    "    (\"source ~/sde_venv/bin/activate\", r\"\\(sde_venv\\).*\\$ \", 10),\n",
    "\n",
    "    # 2) Clean up env and set LD_LIBRARY_PATH\n",
    "    (\"unset PYTHONPATH LD_LIBRARY_PATH; \"\n",
    "     \"for p in /nix/store/*-gcc-*-lib/lib /nix/store/*-zlib-*/lib; do \"\n",
    "     \"  [ -d \\\"$p\\\" ] && LD_LIBRARY_PATH=\\\"$p:${LD_LIBRARY_PATH}\\\"; \"\n",
    "     \"done; export LD_LIBRARY_PATH\", r\"\\(sde_venv\\).*\\$ \", 10),\n",
    "\n",
    "    # 3) Run your script with args\n",
    "    (\"cd /home/fabric && PYTHONWARNINGS=ignore \"\n",
    "     \"python DDoS_Detection_wP4/menu/add_entry_and_retrieve_digests.py 146.88.10.70\",\n",
    "     r\"\\(sde_venv\\).*\\$ \", 50),\n",
    "\n",
    "    # Ensures that the environment is properly terminated after execution.\n",
    "    (\"exit\", r\"\\[nix\\-shell\\(SDE\\-9.13.3\\):.*\\$ \", 10)\n",
    "])\n"
   ]
  },
  {
   "cell_type": "markdown",
   "metadata": {},
   "source": [
    "### 5E. Show aggregated digest entries and ML predictions"
   ]
  },
  {
   "cell_type": "code",
   "execution_count": null,
   "metadata": {},
   "outputs": [],
   "source": [
    "# Run the command below  \n",
    "# To get the aggreagated digests and DDoS predictions\n",
    "\n",
    "stdout, stderr = switch.execute(command=[\n",
    "    # 1) Enter SDE and activate venv\n",
    "    (\"sde-env-9.13.3\", r\"\\[nix\\-shell\\(SDE\\-9\\.13\\.3\\):.*\\$ \", 20),\n",
    "    (\"source ~/sde_venv/bin/activate\", r\"\\(sde_venv\\).*\\$ \", 10),\n",
    "\n",
    "    # 2) Clean up env and set LD_LIBRARY_PATH\n",
    "    (\"unset PYTHONPATH LD_LIBRARY_PATH; \"\n",
    "     \"for p in /nix/store/*-gcc-*-lib/lib /nix/store/*-zlib-*/lib; do \"\n",
    "     \"  [ -d \\\"$p\\\" ] && LD_LIBRARY_PATH=\\\"$p:${LD_LIBRARY_PATH}\\\"; \"\n",
    "     \"done; export LD_LIBRARY_PATH\", r\"\\(sde_venv\\).*\\$ \", 10),\n",
    "\n",
    "    # 3) Run your script \n",
    "    (\"cd /home/fabric && PYTHONWARNINGS=ignore \"\n",
    "     \"python DDoS_Detection_wP4/menu/show_digest_outcomes.py\",\n",
    "     r\"\\(sde_venv\\).*\\$ \", 20),\n",
    "\n",
    "    # Ensures that the environment is properly terminated after execution.\n",
    "    (\"exit\", r\"\\[nix\\-shell\\(SDE\\-9.13.3\\):.*\\$ \", 10)\n",
    "])"
   ]
  },
  {
   "cell_type": "markdown",
   "metadata": {},
   "source": [
    "### 5F. Delete digest entries"
   ]
  },
  {
   "cell_type": "code",
   "execution_count": null,
   "metadata": {},
   "outputs": [],
   "source": [
    "# Run the command below  \n",
    "# To delete digest entries\n",
    "\n",
    "stdout, stderr = switch.execute(command=[\n",
    "    # 1) Enter SDE and activate venv\n",
    "    (\"sde-env-9.13.3\", r\"\\[nix\\-shell\\(SDE\\-9\\.13\\.3\\):.*\\$ \", 20),\n",
    "    (\"source ~/sde_venv/bin/activate\", r\"\\(sde_venv\\).*\\$ \", 10),\n",
    "\n",
    "    # 2) Clean up env and set LD_LIBRARY_PATH\n",
    "    (\"unset PYTHONPATH LD_LIBRARY_PATH; \"\n",
    "     \"for p in /nix/store/*-gcc-*-lib/lib /nix/store/*-zlib-*/lib; do \"\n",
    "     \"  [ -d \\\"$p\\\" ] && LD_LIBRARY_PATH=\\\"$p:${LD_LIBRARY_PATH}\\\"; \"\n",
    "     \"done; export LD_LIBRARY_PATH\", r\"\\(sde_venv\\).*\\$ \", 10),\n",
    "\n",
    "    # 3) Run your script with args\n",
    "    (\"cd /home/fabric && PYTHONWARNINGS=ignore \"\n",
    "     \"python DDoS_Detection_wP4/menu/delete_digest_entries.py\",\n",
    "     r\"\\(sde_venv\\).*\\$ \", 20),\n",
    "\n",
    "    # Ensures that the environment is properly terminated after execution.\n",
    "    (\"exit\", r\"\\[nix\\-shell\\(SDE\\-9.13.3\\):.*\\$ \", 10)\n",
    "])"
   ]
  },
  {
   "cell_type": "markdown",
   "metadata": {},
   "source": [
    "## Delete the L2VPN"
   ]
  },
  {
   "cell_type": "code",
   "execution_count": null,
   "metadata": {},
   "outputs": [],
   "source": [
    "# check all L2VPNs\n",
    "client.get_l2vpns()"
   ]
  },
  {
   "cell_type": "code",
   "execution_count": null,
   "metadata": {},
   "outputs": [],
   "source": [
    "# Check the L2VPN we created above\n",
    "client.get_l2vpn()"
   ]
  },
  {
   "cell_type": "code",
   "execution_count": null,
   "metadata": {},
   "outputs": [],
   "source": [
    "# Delete the L2VPN\n",
    "client.delete_l2vpn()"
   ]
  },
  {
   "cell_type": "markdown",
   "metadata": {
    "id": "jr40raKGnk6k"
   },
   "source": [
    "## Delete the Slice\n",
    "\n",
    "Please delete your slice when you are done with your experiment."
   ]
  },
  {
   "cell_type": "code",
   "execution_count": null,
   "metadata": {},
   "outputs": [],
   "source": [
    "# slice=fablib.get_slice(slice_name)\n",
    "# slice.delete()"
   ]
  }
 ],
 "metadata": {
  "colab": {
   "provenance": []
  },
  "kernelspec": {
   "display_name": "Python 3 (ipykernel)",
   "language": "python",
   "name": "python3"
  },
  "language_info": {
   "codemirror_mode": {
    "name": "ipython",
    "version": 3
   },
   "file_extension": ".py",
   "mimetype": "text/x-python",
   "name": "python",
   "nbconvert_exporter": "python",
   "pygments_lexer": "ipython3",
   "version": "3.11.9"
  }
 },
 "nbformat": 4,
 "nbformat_minor": 4
}
